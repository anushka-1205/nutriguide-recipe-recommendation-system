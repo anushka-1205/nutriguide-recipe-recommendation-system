{
  "nbformat": 4,
  "nbformat_minor": 0,
  "metadata": {
    "colab": {
      "provenance": []
    },
    "kernelspec": {
      "name": "python3",
      "display_name": "Python 3"
    },
    "language_info": {
      "name": "python"
    }
  },
  "cells": [
    {
      "cell_type": "markdown",
      "source": [
        "## **NutriGuide: Recipe Recommendation System**\n",
        "###### An AI project that provides Indian recipe suggestions based on ingredients, calorie limit, and an optional diet type!"
      ],
      "metadata": {
        "id": "-rdjdO65aigo"
      }
    },
    {
      "cell_type": "code",
      "execution_count": null,
      "metadata": {
        "colab": {
          "base_uri": "https://localhost:8080/"
        },
        "id": "JZwaaNuRQ-NY",
        "outputId": "ecb97915-61ce-4b67-f4b5-d4db55eae3b0"
      },
      "outputs": [
        {
          "output_type": "stream",
          "name": "stdout",
          "text": [
            "/content/IndianFoodDatasetCSV2.csv\n",
            "/content/.config/default_configs.db\n",
            "/content/.config/gce\n",
            "/content/.config/hidden_gcloud_config_universe_descriptor_data_cache_configs.db\n",
            "/content/.config/active_config\n",
            "/content/.config/.last_update_check.json\n",
            "/content/.config/.last_survey_prompt.yaml\n",
            "/content/.config/.last_opt_in_prompt.yaml\n",
            "/content/.config/config_sentinel\n",
            "/content/.config/configurations/config_default\n",
            "/content/.config/logs/2025.04.30/13.37.08.828246.log\n",
            "/content/.config/logs/2025.04.30/13.36.50.566118.log\n",
            "/content/.config/logs/2025.04.30/13.36.29.848398.log\n",
            "/content/.config/logs/2025.04.30/13.36.58.979052.log\n",
            "/content/.config/logs/2025.04.30/13.37.00.207659.log\n",
            "/content/.config/logs/2025.04.30/13.37.09.510583.log\n",
            "/content/sample_data/anscombe.json\n",
            "/content/sample_data/README.md\n",
            "/content/sample_data/mnist_test.csv\n",
            "/content/sample_data/mnist_train_small.csv\n",
            "/content/sample_data/california_housing_train.csv\n",
            "/content/sample_data/california_housing_test.csv\n"
          ]
        }
      ],
      "source": [
        "import numpy as np\n",
        "import pandas as pd\n",
        "\n",
        "import os\n",
        "for dirname, _, filenames in os.walk('/content'):\n",
        "    for filename in filenames:\n",
        "        print(os.path.join(dirname, filename))"
      ]
    },
    {
      "cell_type": "code",
      "source": [
        "df = pd.read_csv('/content/IndianFoodDatasetCSV2.csv')"
      ],
      "metadata": {
        "id": "zmnt2BjWSUaf"
      },
      "execution_count": null,
      "outputs": []
    },
    {
      "cell_type": "code",
      "source": [
        "df.dropna(subset=['TranslatedIngredients', 'EstimatedCalories'], inplace=True)"
      ],
      "metadata": {
        "id": "oJtmHYzjVBUd"
      },
      "execution_count": null,
      "outputs": []
    },
    {
      "cell_type": "code",
      "source": [
        "df.head()"
      ],
      "metadata": {
        "colab": {
          "base_uri": "https://localhost:8080/",
          "height": 608
        },
        "id": "rxxdLGCpSVWP",
        "outputId": "113e1919-6b85-40c9-fd09-eb214e9180a2"
      },
      "execution_count": null,
      "outputs": [
        {
          "output_type": "execute_result",
          "data": {
            "text/plain": [
              "   Srno                                         RecipeName  \\\n",
              "0     1                               Masala Karela Recipe   \n",
              "1     2  टमाटर पुलियोगरे रेसिपी - Spicy Tomato Rice (Re...   \n",
              "2     3  Ragi Semiya Upma Recipe - Ragi Millet Vermicel...   \n",
              "3     4  Gongura Chicken Curry Recipe - Andhra Style Go...   \n",
              "4     5  आंध्रा स्टाइल आलम पचड़ी रेसिपी - Adrak Chutney ...   \n",
              "\n",
              "                                TranslatedRecipeName  \\\n",
              "0                               Masala Karela Recipe   \n",
              "1                         Spicy Tomato Rice (Recipe)   \n",
              "2  Ragi Semiya Upma Recipe - Ragi Millet Vermicel...   \n",
              "3  Gongura Chicken Curry Recipe - Andhra Style Go...   \n",
              "4  Andhra Style Alam Pachadi Recipe - Adrak Chutn...   \n",
              "\n",
              "                                         Ingredients  \\\n",
              "0  6 Karela (Bitter Gourd/ Pavakkai) - deseeded,S...   \n",
              "1  2-1/2 कप चावल - पका ले,3 टमाटर,3 छोटा चमच्च बी...   \n",
              "2  1-1/2 cups Rice Vermicelli Noodles (Thin),1 On...   \n",
              "3  500 grams Chicken,2 Onion - chopped,1 Tomato -...   \n",
              "4  1 बड़ा चमच्च चना दाल,1 बड़ा चमच्च सफ़ेद उरद दाल,2...   \n",
              "\n",
              "                               TranslatedIngredients  PrepTimeInMins  \\\n",
              "0  6 Karela (Bitter Gourd/ Pavakkai) - deseeded,S...              15   \n",
              "1  2-1 / 2 cups rice - cooked, 3 tomatoes, 3 teas...               5   \n",
              "2  1-1/2 cups Rice Vermicelli Noodles (Thin),1 On...              20   \n",
              "3  500 grams Chicken,2 Onion - chopped,1 Tomato -...              15   \n",
              "4  1 tablespoon chana dal, 1 tablespoon white ura...              10   \n",
              "\n",
              "   CookTimeInMins  TotalTimeInMins  Servings               Cuisine  \\\n",
              "0              30               45         6                Indian   \n",
              "1              10               15         3  South Indian Recipes   \n",
              "2              30               50         4  South Indian Recipes   \n",
              "3              30               45         4                Andhra   \n",
              "4              20               30         4                Andhra   \n",
              "\n",
              "                   Course                     Diet  \\\n",
              "0               Side Dish        Diabetic Friendly   \n",
              "1             Main Course               Vegetarian   \n",
              "2  South Indian Breakfast  High Protein Vegetarian   \n",
              "3                   Lunch           Non Vegeterian   \n",
              "4  South Indian Breakfast               Vegetarian   \n",
              "\n",
              "                                        Instructions  \\\n",
              "0  To begin making the Masala Karela Recipe,de-se...   \n",
              "1  टमाटर पुलियोगरे बनाने के लिए सबसे पहले टमाटर क...   \n",
              "2  To begin making the Ragi Vermicelli Recipe, fi...   \n",
              "3  To begin making Gongura Chicken Curry Recipe f...   \n",
              "4  आंध्रा स्टाइल आलम पचड़ी बनाने के लिए सबसे पहले ...   \n",
              "\n",
              "                              TranslatedInstructions  \\\n",
              "0  To begin making the Masala Karela Recipe,de-se...   \n",
              "1  To make tomato puliogere, first cut the tomato...   \n",
              "2  To begin making the Ragi Vermicelli Recipe, fi...   \n",
              "3  To begin making Gongura Chicken Curry Recipe f...   \n",
              "4  To make Andhra Style Alam Pachadi, first heat ...   \n",
              "\n",
              "                                                 URL  EstimatedCalories  \n",
              "0  https://www.archanaskitchen.com/masala-karela-...                180  \n",
              "1  http://www.archanaskitchen.com/spicy-tomato-ri...                640  \n",
              "2  http://www.archanaskitchen.com/ragi-vermicelli...                870  \n",
              "3  http://www.archanaskitchen.com/gongura-chicken...                432  \n",
              "4  https://www.archanaskitchen.com/andhra-style-a...                720  "
            ],
            "text/html": [
              "\n",
              "  <div id=\"df-6fa99860-fc21-43eb-80f5-fd5e6f96d3f3\" class=\"colab-df-container\">\n",
              "    <div>\n",
              "<style scoped>\n",
              "    .dataframe tbody tr th:only-of-type {\n",
              "        vertical-align: middle;\n",
              "    }\n",
              "\n",
              "    .dataframe tbody tr th {\n",
              "        vertical-align: top;\n",
              "    }\n",
              "\n",
              "    .dataframe thead th {\n",
              "        text-align: right;\n",
              "    }\n",
              "</style>\n",
              "<table border=\"1\" class=\"dataframe\">\n",
              "  <thead>\n",
              "    <tr style=\"text-align: right;\">\n",
              "      <th></th>\n",
              "      <th>Srno</th>\n",
              "      <th>RecipeName</th>\n",
              "      <th>TranslatedRecipeName</th>\n",
              "      <th>Ingredients</th>\n",
              "      <th>TranslatedIngredients</th>\n",
              "      <th>PrepTimeInMins</th>\n",
              "      <th>CookTimeInMins</th>\n",
              "      <th>TotalTimeInMins</th>\n",
              "      <th>Servings</th>\n",
              "      <th>Cuisine</th>\n",
              "      <th>Course</th>\n",
              "      <th>Diet</th>\n",
              "      <th>Instructions</th>\n",
              "      <th>TranslatedInstructions</th>\n",
              "      <th>URL</th>\n",
              "      <th>EstimatedCalories</th>\n",
              "    </tr>\n",
              "  </thead>\n",
              "  <tbody>\n",
              "    <tr>\n",
              "      <th>0</th>\n",
              "      <td>1</td>\n",
              "      <td>Masala Karela Recipe</td>\n",
              "      <td>Masala Karela Recipe</td>\n",
              "      <td>6 Karela (Bitter Gourd/ Pavakkai) - deseeded,S...</td>\n",
              "      <td>6 Karela (Bitter Gourd/ Pavakkai) - deseeded,S...</td>\n",
              "      <td>15</td>\n",
              "      <td>30</td>\n",
              "      <td>45</td>\n",
              "      <td>6</td>\n",
              "      <td>Indian</td>\n",
              "      <td>Side Dish</td>\n",
              "      <td>Diabetic Friendly</td>\n",
              "      <td>To begin making the Masala Karela Recipe,de-se...</td>\n",
              "      <td>To begin making the Masala Karela Recipe,de-se...</td>\n",
              "      <td>https://www.archanaskitchen.com/masala-karela-...</td>\n",
              "      <td>180</td>\n",
              "    </tr>\n",
              "    <tr>\n",
              "      <th>1</th>\n",
              "      <td>2</td>\n",
              "      <td>टमाटर पुलियोगरे रेसिपी - Spicy Tomato Rice (Re...</td>\n",
              "      <td>Spicy Tomato Rice (Recipe)</td>\n",
              "      <td>2-1/2 कप चावल - पका ले,3 टमाटर,3 छोटा चमच्च बी...</td>\n",
              "      <td>2-1 / 2 cups rice - cooked, 3 tomatoes, 3 teas...</td>\n",
              "      <td>5</td>\n",
              "      <td>10</td>\n",
              "      <td>15</td>\n",
              "      <td>3</td>\n",
              "      <td>South Indian Recipes</td>\n",
              "      <td>Main Course</td>\n",
              "      <td>Vegetarian</td>\n",
              "      <td>टमाटर पुलियोगरे बनाने के लिए सबसे पहले टमाटर क...</td>\n",
              "      <td>To make tomato puliogere, first cut the tomato...</td>\n",
              "      <td>http://www.archanaskitchen.com/spicy-tomato-ri...</td>\n",
              "      <td>640</td>\n",
              "    </tr>\n",
              "    <tr>\n",
              "      <th>2</th>\n",
              "      <td>3</td>\n",
              "      <td>Ragi Semiya Upma Recipe - Ragi Millet Vermicel...</td>\n",
              "      <td>Ragi Semiya Upma Recipe - Ragi Millet Vermicel...</td>\n",
              "      <td>1-1/2 cups Rice Vermicelli Noodles (Thin),1 On...</td>\n",
              "      <td>1-1/2 cups Rice Vermicelli Noodles (Thin),1 On...</td>\n",
              "      <td>20</td>\n",
              "      <td>30</td>\n",
              "      <td>50</td>\n",
              "      <td>4</td>\n",
              "      <td>South Indian Recipes</td>\n",
              "      <td>South Indian Breakfast</td>\n",
              "      <td>High Protein Vegetarian</td>\n",
              "      <td>To begin making the Ragi Vermicelli Recipe, fi...</td>\n",
              "      <td>To begin making the Ragi Vermicelli Recipe, fi...</td>\n",
              "      <td>http://www.archanaskitchen.com/ragi-vermicelli...</td>\n",
              "      <td>870</td>\n",
              "    </tr>\n",
              "    <tr>\n",
              "      <th>3</th>\n",
              "      <td>4</td>\n",
              "      <td>Gongura Chicken Curry Recipe - Andhra Style Go...</td>\n",
              "      <td>Gongura Chicken Curry Recipe - Andhra Style Go...</td>\n",
              "      <td>500 grams Chicken,2 Onion - chopped,1 Tomato -...</td>\n",
              "      <td>500 grams Chicken,2 Onion - chopped,1 Tomato -...</td>\n",
              "      <td>15</td>\n",
              "      <td>30</td>\n",
              "      <td>45</td>\n",
              "      <td>4</td>\n",
              "      <td>Andhra</td>\n",
              "      <td>Lunch</td>\n",
              "      <td>Non Vegeterian</td>\n",
              "      <td>To begin making Gongura Chicken Curry Recipe f...</td>\n",
              "      <td>To begin making Gongura Chicken Curry Recipe f...</td>\n",
              "      <td>http://www.archanaskitchen.com/gongura-chicken...</td>\n",
              "      <td>432</td>\n",
              "    </tr>\n",
              "    <tr>\n",
              "      <th>4</th>\n",
              "      <td>5</td>\n",
              "      <td>आंध्रा स्टाइल आलम पचड़ी रेसिपी - Adrak Chutney ...</td>\n",
              "      <td>Andhra Style Alam Pachadi Recipe - Adrak Chutn...</td>\n",
              "      <td>1 बड़ा चमच्च चना दाल,1 बड़ा चमच्च सफ़ेद उरद दाल,2...</td>\n",
              "      <td>1 tablespoon chana dal, 1 tablespoon white ura...</td>\n",
              "      <td>10</td>\n",
              "      <td>20</td>\n",
              "      <td>30</td>\n",
              "      <td>4</td>\n",
              "      <td>Andhra</td>\n",
              "      <td>South Indian Breakfast</td>\n",
              "      <td>Vegetarian</td>\n",
              "      <td>आंध्रा स्टाइल आलम पचड़ी बनाने के लिए सबसे पहले ...</td>\n",
              "      <td>To make Andhra Style Alam Pachadi, first heat ...</td>\n",
              "      <td>https://www.archanaskitchen.com/andhra-style-a...</td>\n",
              "      <td>720</td>\n",
              "    </tr>\n",
              "  </tbody>\n",
              "</table>\n",
              "</div>\n",
              "    <div class=\"colab-df-buttons\">\n",
              "\n",
              "  <div class=\"colab-df-container\">\n",
              "    <button class=\"colab-df-convert\" onclick=\"convertToInteractive('df-6fa99860-fc21-43eb-80f5-fd5e6f96d3f3')\"\n",
              "            title=\"Convert this dataframe to an interactive table.\"\n",
              "            style=\"display:none;\">\n",
              "\n",
              "  <svg xmlns=\"http://www.w3.org/2000/svg\" height=\"24px\" viewBox=\"0 -960 960 960\">\n",
              "    <path d=\"M120-120v-720h720v720H120Zm60-500h600v-160H180v160Zm220 220h160v-160H400v160Zm0 220h160v-160H400v160ZM180-400h160v-160H180v160Zm440 0h160v-160H620v160ZM180-180h160v-160H180v160Zm440 0h160v-160H620v160Z\"/>\n",
              "  </svg>\n",
              "    </button>\n",
              "\n",
              "  <style>\n",
              "    .colab-df-container {\n",
              "      display:flex;\n",
              "      gap: 12px;\n",
              "    }\n",
              "\n",
              "    .colab-df-convert {\n",
              "      background-color: #E8F0FE;\n",
              "      border: none;\n",
              "      border-radius: 50%;\n",
              "      cursor: pointer;\n",
              "      display: none;\n",
              "      fill: #1967D2;\n",
              "      height: 32px;\n",
              "      padding: 0 0 0 0;\n",
              "      width: 32px;\n",
              "    }\n",
              "\n",
              "    .colab-df-convert:hover {\n",
              "      background-color: #E2EBFA;\n",
              "      box-shadow: 0px 1px 2px rgba(60, 64, 67, 0.3), 0px 1px 3px 1px rgba(60, 64, 67, 0.15);\n",
              "      fill: #174EA6;\n",
              "    }\n",
              "\n",
              "    .colab-df-buttons div {\n",
              "      margin-bottom: 4px;\n",
              "    }\n",
              "\n",
              "    [theme=dark] .colab-df-convert {\n",
              "      background-color: #3B4455;\n",
              "      fill: #D2E3FC;\n",
              "    }\n",
              "\n",
              "    [theme=dark] .colab-df-convert:hover {\n",
              "      background-color: #434B5C;\n",
              "      box-shadow: 0px 1px 3px 1px rgba(0, 0, 0, 0.15);\n",
              "      filter: drop-shadow(0px 1px 2px rgba(0, 0, 0, 0.3));\n",
              "      fill: #FFFFFF;\n",
              "    }\n",
              "  </style>\n",
              "\n",
              "    <script>\n",
              "      const buttonEl =\n",
              "        document.querySelector('#df-6fa99860-fc21-43eb-80f5-fd5e6f96d3f3 button.colab-df-convert');\n",
              "      buttonEl.style.display =\n",
              "        google.colab.kernel.accessAllowed ? 'block' : 'none';\n",
              "\n",
              "      async function convertToInteractive(key) {\n",
              "        const element = document.querySelector('#df-6fa99860-fc21-43eb-80f5-fd5e6f96d3f3');\n",
              "        const dataTable =\n",
              "          await google.colab.kernel.invokeFunction('convertToInteractive',\n",
              "                                                    [key], {});\n",
              "        if (!dataTable) return;\n",
              "\n",
              "        const docLinkHtml = 'Like what you see? Visit the ' +\n",
              "          '<a target=\"_blank\" href=https://colab.research.google.com/notebooks/data_table.ipynb>data table notebook</a>'\n",
              "          + ' to learn more about interactive tables.';\n",
              "        element.innerHTML = '';\n",
              "        dataTable['output_type'] = 'display_data';\n",
              "        await google.colab.output.renderOutput(dataTable, element);\n",
              "        const docLink = document.createElement('div');\n",
              "        docLink.innerHTML = docLinkHtml;\n",
              "        element.appendChild(docLink);\n",
              "      }\n",
              "    </script>\n",
              "  </div>\n",
              "\n",
              "\n",
              "    <div id=\"df-b75d5088-8180-434b-a898-ea8e681a5409\">\n",
              "      <button class=\"colab-df-quickchart\" onclick=\"quickchart('df-b75d5088-8180-434b-a898-ea8e681a5409')\"\n",
              "                title=\"Suggest charts\"\n",
              "                style=\"display:none;\">\n",
              "\n",
              "<svg xmlns=\"http://www.w3.org/2000/svg\" height=\"24px\"viewBox=\"0 0 24 24\"\n",
              "     width=\"24px\">\n",
              "    <g>\n",
              "        <path d=\"M19 3H5c-1.1 0-2 .9-2 2v14c0 1.1.9 2 2 2h14c1.1 0 2-.9 2-2V5c0-1.1-.9-2-2-2zM9 17H7v-7h2v7zm4 0h-2V7h2v10zm4 0h-2v-4h2v4z\"/>\n",
              "    </g>\n",
              "</svg>\n",
              "      </button>\n",
              "\n",
              "<style>\n",
              "  .colab-df-quickchart {\n",
              "      --bg-color: #E8F0FE;\n",
              "      --fill-color: #1967D2;\n",
              "      --hover-bg-color: #E2EBFA;\n",
              "      --hover-fill-color: #174EA6;\n",
              "      --disabled-fill-color: #AAA;\n",
              "      --disabled-bg-color: #DDD;\n",
              "  }\n",
              "\n",
              "  [theme=dark] .colab-df-quickchart {\n",
              "      --bg-color: #3B4455;\n",
              "      --fill-color: #D2E3FC;\n",
              "      --hover-bg-color: #434B5C;\n",
              "      --hover-fill-color: #FFFFFF;\n",
              "      --disabled-bg-color: #3B4455;\n",
              "      --disabled-fill-color: #666;\n",
              "  }\n",
              "\n",
              "  .colab-df-quickchart {\n",
              "    background-color: var(--bg-color);\n",
              "    border: none;\n",
              "    border-radius: 50%;\n",
              "    cursor: pointer;\n",
              "    display: none;\n",
              "    fill: var(--fill-color);\n",
              "    height: 32px;\n",
              "    padding: 0;\n",
              "    width: 32px;\n",
              "  }\n",
              "\n",
              "  .colab-df-quickchart:hover {\n",
              "    background-color: var(--hover-bg-color);\n",
              "    box-shadow: 0 1px 2px rgba(60, 64, 67, 0.3), 0 1px 3px 1px rgba(60, 64, 67, 0.15);\n",
              "    fill: var(--button-hover-fill-color);\n",
              "  }\n",
              "\n",
              "  .colab-df-quickchart-complete:disabled,\n",
              "  .colab-df-quickchart-complete:disabled:hover {\n",
              "    background-color: var(--disabled-bg-color);\n",
              "    fill: var(--disabled-fill-color);\n",
              "    box-shadow: none;\n",
              "  }\n",
              "\n",
              "  .colab-df-spinner {\n",
              "    border: 2px solid var(--fill-color);\n",
              "    border-color: transparent;\n",
              "    border-bottom-color: var(--fill-color);\n",
              "    animation:\n",
              "      spin 1s steps(1) infinite;\n",
              "  }\n",
              "\n",
              "  @keyframes spin {\n",
              "    0% {\n",
              "      border-color: transparent;\n",
              "      border-bottom-color: var(--fill-color);\n",
              "      border-left-color: var(--fill-color);\n",
              "    }\n",
              "    20% {\n",
              "      border-color: transparent;\n",
              "      border-left-color: var(--fill-color);\n",
              "      border-top-color: var(--fill-color);\n",
              "    }\n",
              "    30% {\n",
              "      border-color: transparent;\n",
              "      border-left-color: var(--fill-color);\n",
              "      border-top-color: var(--fill-color);\n",
              "      border-right-color: var(--fill-color);\n",
              "    }\n",
              "    40% {\n",
              "      border-color: transparent;\n",
              "      border-right-color: var(--fill-color);\n",
              "      border-top-color: var(--fill-color);\n",
              "    }\n",
              "    60% {\n",
              "      border-color: transparent;\n",
              "      border-right-color: var(--fill-color);\n",
              "    }\n",
              "    80% {\n",
              "      border-color: transparent;\n",
              "      border-right-color: var(--fill-color);\n",
              "      border-bottom-color: var(--fill-color);\n",
              "    }\n",
              "    90% {\n",
              "      border-color: transparent;\n",
              "      border-bottom-color: var(--fill-color);\n",
              "    }\n",
              "  }\n",
              "</style>\n",
              "\n",
              "      <script>\n",
              "        async function quickchart(key) {\n",
              "          const quickchartButtonEl =\n",
              "            document.querySelector('#' + key + ' button');\n",
              "          quickchartButtonEl.disabled = true;  // To prevent multiple clicks.\n",
              "          quickchartButtonEl.classList.add('colab-df-spinner');\n",
              "          try {\n",
              "            const charts = await google.colab.kernel.invokeFunction(\n",
              "                'suggestCharts', [key], {});\n",
              "          } catch (error) {\n",
              "            console.error('Error during call to suggestCharts:', error);\n",
              "          }\n",
              "          quickchartButtonEl.classList.remove('colab-df-spinner');\n",
              "          quickchartButtonEl.classList.add('colab-df-quickchart-complete');\n",
              "        }\n",
              "        (() => {\n",
              "          let quickchartButtonEl =\n",
              "            document.querySelector('#df-b75d5088-8180-434b-a898-ea8e681a5409 button');\n",
              "          quickchartButtonEl.style.display =\n",
              "            google.colab.kernel.accessAllowed ? 'block' : 'none';\n",
              "        })();\n",
              "      </script>\n",
              "    </div>\n",
              "\n",
              "    </div>\n",
              "  </div>\n"
            ],
            "application/vnd.google.colaboratory.intrinsic+json": {
              "type": "dataframe",
              "variable_name": "df",
              "summary": "{\n  \"name\": \"df\",\n  \"rows\": 6865,\n  \"fields\": [\n    {\n      \"column\": \"Srno\",\n      \"properties\": {\n        \"dtype\": \"number\",\n        \"std\": 3479,\n        \"min\": 1,\n        \"max\": 14211,\n        \"num_unique_values\": 6865,\n        \"samples\": [\n          1751,\n          1364,\n          2235\n        ],\n        \"semantic_type\": \"\",\n        \"description\": \"\"\n      }\n    },\n    {\n      \"column\": \"RecipeName\",\n      \"properties\": {\n        \"dtype\": \"string\",\n        \"num_unique_values\": 6865,\n        \"samples\": [\n          \"Pudina Mavinakayi Chutney Recipe - Mint Mango Chutney\",\n          \"\\u092e\\u094b\\u0938\\u0921\\u0947\\u0902\\u0917 \\u0938\\u0930\\u092e\\u093e \\u0930\\u0947\\u0938\\u093f\\u092a\\u0940 - Tripura Style Tomato Chutney Recipe\",\n          \"Spicy Indian Style Onion Rings Recipe\"\n        ],\n        \"semantic_type\": \"\",\n        \"description\": \"\"\n      }\n    },\n    {\n      \"column\": \"TranslatedRecipeName\",\n      \"properties\": {\n        \"dtype\": \"string\",\n        \"num_unique_values\": 6838,\n        \"samples\": [\n          \" Makki Paneer Pakora Recipe\",\n          \"Mexican Cottage Cheese Chicken Enchilada Recipe\",\n          \"Green Pea Pakoras Recipe - Green Pea Freighters\"\n        ],\n        \"semantic_type\": \"\",\n        \"description\": \"\"\n      }\n    },\n    {\n      \"column\": \"Ingredients\",\n      \"properties\": {\n        \"dtype\": \"string\",\n        \"num_unique_values\": 6856,\n        \"samples\": [\n          \"1 Carrot (Gajjar) - cubed,1 Potato (Aloo) - cubed,1/2 cup Green beans (French Beans) - chopped into \\u00bd inch size,1 Knol Khol (Ganth Gobi/kadam) - cubed,1/4 cup Green peas (Matar),1 Onion - chopped,1 Tomato - chopped,1/4 teaspoon Turmeric powder (Haldi),4 teaspoon Sunflower Oil - Ghee,1/4 teaspoon Mustard seeds,1/2 teaspoon White Urad Dal (Split),4 Curry leaves,Salt - to taste,1/2 cup Fresh coconut,1 inch Ginger - chopped,3 cloves Garlic,1 teaspoon Coriander (Dhania) Seeds,1/2 teaspoon Cumin seeds (Jeera),2 tablespoons Roasted Gram Dal (Pottukadalai),1 teaspoon Poppy seeds,2 Green Chillies,1/2 inch Cinnamon Stick (Dalchini),4 Cloves (Laung),1 Star anise,1 Cardamom (Elaichi) Pods/Seeds,1/4 cup Coriander (Dhania) Leaves,1/4 cup Mint Leaves (Pudina)\",\n          \"8 Chicken Wings,2 tablespoon Barbeque sauce,1/2 cup Whole Wheat Bread crumbs,1 teaspoon Chilli vinegar,1 inch Ginger - chopped,2 cloves Garlic - chopped,4 tablespoons Corn flour,1 Whole Egg,Salt and Pepper - to taste\",\n          \"1 Chicken breasts,1 teaspoon Black pepper powder,Salt - to taste,1 cup Cabbage (Patta Gobi/ Muttaikose) - shredded,1 Carrot (Gajjar) - grated,1 Red Bell pepper (Capsicum) - julienned,1 Whole Egg - boiled,2 sprig Coriander (Dhania) Leaves - chopped,1/4 cup Fresh orange juice,1/4 cup Extra Virgin Olive Oil,Salt and Pepper - for taste\"\n        ],\n        \"semantic_type\": \"\",\n        \"description\": \"\"\n      }\n    },\n    {\n      \"column\": \"TranslatedIngredients\",\n      \"properties\": {\n        \"dtype\": \"string\",\n        \"num_unique_values\": 6857,\n        \"samples\": [\n          \"1 Carrot (Gajjar) - cubed,1 Potato (Aloo) - cubed,1/2 cup Green beans (French Beans) - chopped into \\u00bd inch size,1 Knol Khol (Ganth Gobi/kadam) - cubed,1/4 cup Green peas (Matar),1 Onion - chopped,1 Tomato - chopped,1/4 teaspoon Turmeric powder (Haldi),4 teaspoon Sunflower Oil - Ghee,1/4 teaspoon Mustard seeds,1/2 teaspoon White Urad Dal (Split),4 Curry leaves,Salt - to taste,1/2 cup Fresh coconut,1 inch Ginger - chopped,3 cloves Garlic,1 teaspoon Coriander (Dhania) Seeds,1/2 teaspoon Cumin seeds (Jeera),2 tablespoons Roasted Gram Dal (Pottukadalai),1 teaspoon Poppy seeds,2 Green Chillies,1/2 inch Cinnamon Stick (Dalchini),4 Cloves (Laung),1 Star anise,1 Cardamom (Elaichi) Pods/Seeds,1/4 cup Coriander (Dhania) Leaves,1/4 cup Mint Leaves (Pudina)\",\n          \"8 Chicken Wings,2 tablespoon Barbeque sauce,1/2 cup Whole Wheat Bread crumbs,1 teaspoon Chilli vinegar,1 inch Ginger - chopped,2 cloves Garlic - chopped,4 tablespoons Corn flour,1 Whole Egg,Salt and Pepper - to taste\",\n          \"1 Chicken breasts,1 teaspoon Black pepper powder,Salt - to taste,1 cup Cabbage (Patta Gobi/ Muttaikose) - shredded,1 Carrot (Gajjar) - grated,1 Red Bell pepper (Capsicum) - julienned,1 Whole Egg - boiled,2 sprig Coriander (Dhania) Leaves - chopped,1/4 cup Fresh orange juice,1/4 cup Extra Virgin Olive Oil,Salt and Pepper - for taste\"\n        ],\n        \"semantic_type\": \"\",\n        \"description\": \"\"\n      }\n    },\n    {\n      \"column\": \"PrepTimeInMins\",\n      \"properties\": {\n        \"dtype\": \"number\",\n        \"std\": 81,\n        \"min\": 0,\n        \"max\": 2880,\n        \"num_unique_values\": 86,\n        \"samples\": [\n          430,\n          15,\n          780\n        ],\n        \"semantic_type\": \"\",\n        \"description\": \"\"\n      }\n    },\n    {\n      \"column\": \"CookTimeInMins\",\n      \"properties\": {\n        \"dtype\": \"number\",\n        \"std\": 34,\n        \"min\": 0,\n        \"max\": 900,\n        \"num_unique_values\": 67,\n        \"samples\": [\n          780,\n          8,\n          45\n        ],\n        \"semantic_type\": \"\",\n        \"description\": \"\"\n      }\n    },\n    {\n      \"column\": \"TotalTimeInMins\",\n      \"properties\": {\n        \"dtype\": \"number\",\n        \"std\": 88,\n        \"min\": 0,\n        \"max\": 2925,\n        \"num_unique_values\": 167,\n        \"samples\": [\n          520,\n          149,\n          460\n        ],\n        \"semantic_type\": \"\",\n        \"description\": \"\"\n      }\n    },\n    {\n      \"column\": \"Servings\",\n      \"properties\": {\n        \"dtype\": \"number\",\n        \"std\": 26,\n        \"min\": 1,\n        \"max\": 1000,\n        \"num_unique_values\": 33,\n        \"samples\": [\n          240,\n          16,\n          24\n        ],\n        \"semantic_type\": \"\",\n        \"description\": \"\"\n      }\n    },\n    {\n      \"column\": \"Cuisine\",\n      \"properties\": {\n        \"dtype\": \"category\",\n        \"num_unique_values\": 82,\n        \"samples\": [\n          \"Goan Recipes\",\n          \"Indian\",\n          \"Middle Eastern\"\n        ],\n        \"semantic_type\": \"\",\n        \"description\": \"\"\n      }\n    },\n    {\n      \"column\": \"Course\",\n      \"properties\": {\n        \"dtype\": \"category\",\n        \"num_unique_values\": 20,\n        \"samples\": [\n          \"Side Dish\",\n          \"Brunch\",\n          \"Eggetarian\"\n        ],\n        \"semantic_type\": \"\",\n        \"description\": \"\"\n      }\n    },\n    {\n      \"column\": \"Diet\",\n      \"properties\": {\n        \"dtype\": \"category\",\n        \"num_unique_values\": 10,\n        \"samples\": [\n          \"Gluten Free\",\n          \"Vegetarian\",\n          \"Eggetarian\"\n        ],\n        \"semantic_type\": \"\",\n        \"description\": \"\"\n      }\n    },\n    {\n      \"column\": \"Instructions\",\n      \"properties\": {\n        \"dtype\": \"string\",\n        \"num_unique_values\": 6864,\n        \"samples\": [\n          \"To begin making the Crispy Potato Roses recipe, grease a muffin pan with some melted butter and set aside.Preheat oven to 200 degrees Celsius/400 degrees Fahrenheit. Wash and peel potatoes.Slice them using a mandolin slicer or vegetable peeler. Keep it aside.In a small bowl, combine the melted butter, Italian seasoning, garlic powder, salt and pepper. Mix well and keep aside.Arrange 10 to 12 potato slices partially-overlapped, lengthwise, in a row.Brush the row of potato slices with the seasoned butter.Starting with the first slice, roll carefully holding on to all the slices to get a beautiful rosebud.Place the rose in the cup of a muffin pan. (Make a rose that fits in your muffin pan).Make all the 5 roses and brush the tops with the remaining seasoned butter.Sprinkle some grated Parmesan on top of each rose.Bake for 30 to 35 minutes, until the edges turn brown and crisp, and the potatoes are cooked-through.Remove from oven and serve immediately with any dipping sauce of your choice.\\u00a0Serve Crispy Potato Roses along with\\u00a0Asparagus Guacamole\\u00a0Recipe as an appetiser for your family dinner or when you have guest at your home for dinner.\\n\",\n          \"To begin making the Bonda Mor Kuzhambu Recipe, we start with making the bonda.Wash and soak the urad dal for 2 hours, and then grind it along with ginger and green chilli to a smooth paste using a mixer grinder.Take out this batter in a bowl, season with salt and whisk it vigorously to attain a light texture.In the mean also soak the coriander seeds, toor dal and a died red chilli in water and keep aside.Heat enough oil in a frying pan on medium heat, and once the oil is hot enough, drop a spoon full of small balls of the bond batter into the oil and fry till golden brown as you would make the medu vada's.Remove, drain it on the kitchen absorbent paper and keep it aside.Likewise, prepare the bonda's with the remaining batter.Now, to make the mor kuzhambu take the soaked coriander seeds, toor dal and red chilli in a mixie jar and grind it to a smooth paste along with ginger and grated coconut.Take a bowl, whisk the curd to smooth texture, add the ground coconut mix to it, season with salt and whisk it together.Heat oil in a pan on medium heat, add mustard seeds, chana dal and let it crackle.Add the asafoetida, a dried red chilli and curry leaves and let it splutter.Add the sour curd and coconut mix to this, 2 to 3 cups of water and bring it to a boil.If the mor kuzhambu is too thick, add more water, adjust the seasoning and simmer for around 10 minutes.Once the Mor Kuzhambu is well cooked, add the prepared bonda's to it, bring it to a gentle boil and switch off the flame.Serve the Bonda Mor Kuzhambu Recipe along with Steamed Rice and\\u00a0Crispy Potato Fry\\u00a0for a delicious weeknight dinner or for the weekend brunch.\\n\",\n          \"To begin making the\\u00a0 Penne Arrabbiata Pasta Recipe we first have to cook the pasta.In a large pot, add water and bring it to a boil. Once the water has boiled, add a teaspoon of salt.Add the pasta to the boiling water and let it cook in the boiling water until it is al dente ( just cooked). This process should take a good 12-15 minutes.Once the pasta has cooked, drain the water and run the cooked pasta under running water to stop the cooking process.Drizzle some oil on top of pasta and make sure to coat all of the pasta with the oil so that the pasta doesn't stick to each other.To make the Arrabiatta Pasta SaucePlace a pan on medium heat, add oil and garlic and onion and saute for a few seconds until the onions turn soft.Once the onions have softened, add the tomato puree, chilli flakes, mixed herbs, pounded black peppercorns, salt and sugar.Cook the arrabbiata sauce together for a few minutes till the the sauce comes together and you can smell the aromas in the air.\\u00a0Add the cooked Penne Pasta to the spicy arrabbiata sauce and keep mixing till the sauce thickens and pasta is well coated with the sauce.Once done, turn off the heat, check the salt and spices and adjust according to taste. Transfer the\\u00a0Penne Arrabbiata Pasta to a serving bowl. Finally sprinkle the parmesan cheese on the top and serve hot.Serve\\u00a0Penne Arrabbiata Pasta Recipe along with\\u00a0Thai Green Papaya Salad Recipe\\u00a0and a glass of wine for your weekend night dinner.\\n\"\n        ],\n        \"semantic_type\": \"\",\n        \"description\": \"\"\n      }\n    },\n    {\n      \"column\": \"TranslatedInstructions\",\n      \"properties\": {\n        \"dtype\": \"string\",\n        \"num_unique_values\": 6864,\n        \"samples\": [\n          \"To begin making the Crispy Potato Roses recipe, grease a muffin pan with some melted butter and set aside.Preheat oven to 200 degrees Celsius/400 degrees Fahrenheit. Wash and peel potatoes.Slice them using a mandolin slicer or vegetable peeler. Keep it aside.In a small bowl, combine the melted butter, Italian seasoning, garlic powder, salt and pepper. Mix well and keep aside.Arrange 10 to 12 potato slices partially-overlapped, lengthwise, in a row.Brush the row of potato slices with the seasoned butter.Starting with the first slice, roll carefully holding on to all the slices to get a beautiful rosebud.Place the rose in the cup of a muffin pan. (Make a rose that fits in your muffin pan).Make all the 5 roses and brush the tops with the remaining seasoned butter.Sprinkle some grated Parmesan on top of each rose.Bake for 30 to 35 minutes, until the edges turn brown and crisp, and the potatoes are cooked-through.Remove from oven and serve immediately with any dipping sauce of your choice.\\u00a0Serve Crispy Potato Roses along with\\u00a0Asparagus Guacamole\\u00a0Recipe as an appetiser for your family dinner or when you have guest at your home for dinner.\\n\",\n          \"To begin making the Bonda Mor Kuzhambu Recipe, we start with making the bonda.Wash and soak the urad dal for 2 hours, and then grind it along with ginger and green chilli to a smooth paste using a mixer grinder.Take out this batter in a bowl, season with salt and whisk it vigorously to attain a light texture.In the mean also soak the coriander seeds, toor dal and a died red chilli in water and keep aside.Heat enough oil in a frying pan on medium heat, and once the oil is hot enough, drop a spoon full of small balls of the bond batter into the oil and fry till golden brown as you would make the medu vada's.Remove, drain it on the kitchen absorbent paper and keep it aside.Likewise, prepare the bonda's with the remaining batter.Now, to make the mor kuzhambu take the soaked coriander seeds, toor dal and red chilli in a mixie jar and grind it to a smooth paste along with ginger and grated coconut.Take a bowl, whisk the curd to smooth texture, add the ground coconut mix to it, season with salt and whisk it together.Heat oil in a pan on medium heat, add mustard seeds, chana dal and let it crackle.Add the asafoetida, a dried red chilli and curry leaves and let it splutter.Add the sour curd and coconut mix to this, 2 to 3 cups of water and bring it to a boil.If the mor kuzhambu is too thick, add more water, adjust the seasoning and simmer for around 10 minutes.Once the Mor Kuzhambu is well cooked, add the prepared bonda's to it, bring it to a gentle boil and switch off the flame.Serve the Bonda Mor Kuzhambu Recipe along with Steamed Rice and\\u00a0Crispy Potato Fry\\u00a0for a delicious weeknight dinner or for the weekend brunch.\",\n          \"To begin making the\\u00a0 Penne Arrabbiata Pasta Recipe we first have to cook the pasta.In a large pot, add water and bring it to a boil. Once the water has boiled, add a teaspoon of salt.Add the pasta to the boiling water and let it cook in the boiling water until it is al dente ( just cooked). This process should take a good 12-15 minutes.Once the pasta has cooked, drain the water and run the cooked pasta under running water to stop the cooking process.Drizzle some oil on top of pasta and make sure to coat all of the pasta with the oil so that the pasta doesn't stick to each other.To make the Arrabiatta Pasta SaucePlace a pan on medium heat, add oil and garlic and onion and saute for a few seconds until the onions turn soft.Once the onions have softened, add the tomato puree, chilli flakes, mixed herbs, pounded black peppercorns, salt and sugar.Cook the arrabbiata sauce together for a few minutes till the the sauce comes together and you can smell the aromas in the air.\\u00a0Add the cooked Penne Pasta to the spicy arrabbiata sauce and keep mixing till the sauce thickens and pasta is well coated with the sauce.Once done, turn off the heat, check the salt and spices and adjust according to taste. Transfer the\\u00a0Penne Arrabbiata Pasta to a serving bowl. Finally sprinkle the parmesan cheese on the top and serve hot.Serve\\u00a0Penne Arrabbiata Pasta Recipe along with\\u00a0Thai Green Papaya Salad Recipe\\u00a0and a glass of wine for your weekend night dinner.\"\n        ],\n        \"semantic_type\": \"\",\n        \"description\": \"\"\n      }\n    },\n    {\n      \"column\": \"URL\",\n      \"properties\": {\n        \"dtype\": \"string\",\n        \"num_unique_values\": 6865,\n        \"samples\": [\n          \"http://www.archanaskitchen.com/karnataka-style-pudina-mavinkayi-chutney-recipe-mint-mango-chutney\",\n          \"https://www.archanaskitchen.com/mosdeng-serma-recipe-tripura-style-tomato-chutney-in-hindi\",\n          \"http://www.archanaskitchen.com/spicy-indian-style-onion-rings-recipe\"\n        ],\n        \"semantic_type\": \"\",\n        \"description\": \"\"\n      }\n    },\n    {\n      \"column\": \"EstimatedCalories\",\n      \"properties\": {\n        \"dtype\": \"number\",\n        \"std\": 200,\n        \"min\": 0,\n        \"max\": 1070,\n        \"num_unique_values\": 652,\n        \"samples\": [\n          679,\n          456,\n          611\n        ],\n        \"semantic_type\": \"\",\n        \"description\": \"\"\n      }\n    }\n  ]\n}"
            }
          },
          "metadata": {},
          "execution_count": 5
        }
      ]
    },
    {
      "cell_type": "code",
      "source": [
        "df.info()"
      ],
      "metadata": {
        "colab": {
          "base_uri": "https://localhost:8080/"
        },
        "id": "4WJ1PDosSxWy",
        "outputId": "4465a460-51da-4538-b994-ed968c27b42c"
      },
      "execution_count": null,
      "outputs": [
        {
          "output_type": "stream",
          "name": "stdout",
          "text": [
            "<class 'pandas.core.frame.DataFrame'>\n",
            "Index: 6865 entries, 0 to 6870\n",
            "Data columns (total 16 columns):\n",
            " #   Column                  Non-Null Count  Dtype \n",
            "---  ------                  --------------  ----- \n",
            " 0   Srno                    6865 non-null   int64 \n",
            " 1   RecipeName              6865 non-null   object\n",
            " 2   TranslatedRecipeName    6865 non-null   object\n",
            " 3   Ingredients             6865 non-null   object\n",
            " 4   TranslatedIngredients   6865 non-null   object\n",
            " 5   PrepTimeInMins          6865 non-null   int64 \n",
            " 6   CookTimeInMins          6865 non-null   int64 \n",
            " 7   TotalTimeInMins         6865 non-null   int64 \n",
            " 8   Servings                6865 non-null   int64 \n",
            " 9   Cuisine                 6865 non-null   object\n",
            " 10  Course                  6865 non-null   object\n",
            " 11  Diet                    6865 non-null   object\n",
            " 12  Instructions            6865 non-null   object\n",
            " 13  TranslatedInstructions  6865 non-null   object\n",
            " 14  URL                     6865 non-null   object\n",
            " 15  EstimatedCalories       6865 non-null   int64 \n",
            "dtypes: int64(6), object(10)\n",
            "memory usage: 911.8+ KB\n"
          ]
        }
      ]
    },
    {
      "cell_type": "code",
      "source": [
        "df.isnull().sum()"
      ],
      "metadata": {
        "colab": {
          "base_uri": "https://localhost:8080/",
          "height": 585
        },
        "id": "FEWPG7lOS8or",
        "outputId": "3f020157-782d-4860-9de7-aa38be9255cb"
      },
      "execution_count": null,
      "outputs": [
        {
          "output_type": "execute_result",
          "data": {
            "text/plain": [
              "Srno                      0\n",
              "RecipeName                0\n",
              "TranslatedRecipeName      0\n",
              "Ingredients               0\n",
              "TranslatedIngredients     0\n",
              "PrepTimeInMins            0\n",
              "CookTimeInMins            0\n",
              "TotalTimeInMins           0\n",
              "Servings                  0\n",
              "Cuisine                   0\n",
              "Course                    0\n",
              "Diet                      0\n",
              "Instructions              0\n",
              "TranslatedInstructions    0\n",
              "URL                       0\n",
              "EstimatedCalories         0\n",
              "dtype: int64"
            ],
            "text/html": [
              "<div>\n",
              "<style scoped>\n",
              "    .dataframe tbody tr th:only-of-type {\n",
              "        vertical-align: middle;\n",
              "    }\n",
              "\n",
              "    .dataframe tbody tr th {\n",
              "        vertical-align: top;\n",
              "    }\n",
              "\n",
              "    .dataframe thead th {\n",
              "        text-align: right;\n",
              "    }\n",
              "</style>\n",
              "<table border=\"1\" class=\"dataframe\">\n",
              "  <thead>\n",
              "    <tr style=\"text-align: right;\">\n",
              "      <th></th>\n",
              "      <th>0</th>\n",
              "    </tr>\n",
              "  </thead>\n",
              "  <tbody>\n",
              "    <tr>\n",
              "      <th>Srno</th>\n",
              "      <td>0</td>\n",
              "    </tr>\n",
              "    <tr>\n",
              "      <th>RecipeName</th>\n",
              "      <td>0</td>\n",
              "    </tr>\n",
              "    <tr>\n",
              "      <th>TranslatedRecipeName</th>\n",
              "      <td>0</td>\n",
              "    </tr>\n",
              "    <tr>\n",
              "      <th>Ingredients</th>\n",
              "      <td>0</td>\n",
              "    </tr>\n",
              "    <tr>\n",
              "      <th>TranslatedIngredients</th>\n",
              "      <td>0</td>\n",
              "    </tr>\n",
              "    <tr>\n",
              "      <th>PrepTimeInMins</th>\n",
              "      <td>0</td>\n",
              "    </tr>\n",
              "    <tr>\n",
              "      <th>CookTimeInMins</th>\n",
              "      <td>0</td>\n",
              "    </tr>\n",
              "    <tr>\n",
              "      <th>TotalTimeInMins</th>\n",
              "      <td>0</td>\n",
              "    </tr>\n",
              "    <tr>\n",
              "      <th>Servings</th>\n",
              "      <td>0</td>\n",
              "    </tr>\n",
              "    <tr>\n",
              "      <th>Cuisine</th>\n",
              "      <td>0</td>\n",
              "    </tr>\n",
              "    <tr>\n",
              "      <th>Course</th>\n",
              "      <td>0</td>\n",
              "    </tr>\n",
              "    <tr>\n",
              "      <th>Diet</th>\n",
              "      <td>0</td>\n",
              "    </tr>\n",
              "    <tr>\n",
              "      <th>Instructions</th>\n",
              "      <td>0</td>\n",
              "    </tr>\n",
              "    <tr>\n",
              "      <th>TranslatedInstructions</th>\n",
              "      <td>0</td>\n",
              "    </tr>\n",
              "    <tr>\n",
              "      <th>URL</th>\n",
              "      <td>0</td>\n",
              "    </tr>\n",
              "    <tr>\n",
              "      <th>EstimatedCalories</th>\n",
              "      <td>0</td>\n",
              "    </tr>\n",
              "  </tbody>\n",
              "</table>\n",
              "</div><br><label><b>dtype:</b> int64</label>"
            ]
          },
          "metadata": {},
          "execution_count": 9
        }
      ]
    },
    {
      "cell_type": "code",
      "source": [
        "df['Cuisine'].unique()"
      ],
      "metadata": {
        "colab": {
          "base_uri": "https://localhost:8080/"
        },
        "id": "CT3k3-sGTAlR",
        "outputId": "4b1e4be8-eb1d-4b81-bf5e-0e007f4feb49"
      },
      "execution_count": null,
      "outputs": [
        {
          "output_type": "execute_result",
          "data": {
            "text/plain": [
              "array(['Indian', 'South Indian Recipes', 'Andhra', 'Udupi', 'Mexican',\n",
              "       'Fusion', 'Continental', 'Bengali Recipes', 'Punjabi', 'Chettinad',\n",
              "       'Tamil Nadu', 'Maharashtrian Recipes', 'North Indian Recipes',\n",
              "       'Italian Recipes', 'Sindhi', 'Thai', 'Chinese', 'Kerala Recipes',\n",
              "       'Gujarati Recipes\\ufeff', 'Coorg', 'Rajasthani', 'Asian',\n",
              "       'Middle Eastern', 'Coastal Karnataka', 'European', 'Kashmiri',\n",
              "       'Karnataka', 'Lucknowi', 'Hyderabadi', 'Side Dish', 'Goan Recipes',\n",
              "       'Arab', 'Assamese', 'Bihari', 'Malabar', 'Himachal', 'Awadhi',\n",
              "       'Cantonese', 'North East India Recipes', 'Sichuan', 'Mughlai',\n",
              "       'Japanese', 'Mangalorean', 'Vietnamese', 'British',\n",
              "       'North Karnataka', 'Parsi Recipes', 'Greek', 'Nepalese',\n",
              "       'Oriya Recipes', 'French', 'Indo Chinese', 'Konkan',\n",
              "       'Mediterranean', 'Sri Lankan', 'Haryana', 'Uttar Pradesh',\n",
              "       'Malvani', 'Indonesian', 'African', 'Shandong', 'Korean',\n",
              "       'American', 'Kongunadu', 'Pakistani', 'Caribbean',\n",
              "       'South Karnataka', 'Appetizer', 'Uttarakhand-North Kumaon',\n",
              "       'World Breakfast', 'Malaysian', 'Dessert', 'Hunan', 'Dinner',\n",
              "       'Snack', 'Jewish', 'Burmese', 'Afghan', 'Brunch', 'Jharkhand',\n",
              "       'Nagaland', 'Lunch'], dtype=object)"
            ]
          },
          "metadata": {},
          "execution_count": 10
        }
      ]
    },
    {
      "cell_type": "code",
      "source": [
        "df['Diet'].unique()"
      ],
      "metadata": {
        "colab": {
          "base_uri": "https://localhost:8080/"
        },
        "id": "hImQa1gCTDjF",
        "outputId": "3ea2878d-0ecd-4bb9-a074-1cea769a8021"
      },
      "execution_count": null,
      "outputs": [
        {
          "output_type": "execute_result",
          "data": {
            "text/plain": [
              "array(['Diabetic Friendly', 'Vegetarian', 'High Protein Vegetarian',\n",
              "       'Non Vegeterian', 'High Protein Non Vegetarian', 'Eggetarian',\n",
              "       'Vegan', 'No Onion No Garlic (Sattvic)', 'Gluten Free',\n",
              "       'Sugar Free Diet'], dtype=object)"
            ]
          },
          "metadata": {},
          "execution_count": 11
        }
      ]
    },
    {
      "cell_type": "code",
      "source": [
        "df['Course'].unique()"
      ],
      "metadata": {
        "colab": {
          "base_uri": "https://localhost:8080/"
        },
        "id": "frokt6P7TG1O",
        "outputId": "500634f3-29b8-4bd7-c1c5-a536cb83237f"
      },
      "execution_count": null,
      "outputs": [
        {
          "output_type": "execute_result",
          "data": {
            "text/plain": [
              "array(['Side Dish', 'Main Course', 'South Indian Breakfast', 'Lunch',\n",
              "       'Snack', 'High Protein Vegetarian', 'Dinner', 'Appetizer',\n",
              "       'Indian Breakfast', 'Dessert', 'North Indian Breakfast',\n",
              "       'One Pot Dish', 'World Breakfast', 'Non Vegeterian', 'Vegetarian',\n",
              "       'Eggetarian', 'No Onion No Garlic (Sattvic)', 'Brunch', 'Vegan',\n",
              "       'Sugar Free Diet'], dtype=object)"
            ]
          },
          "metadata": {},
          "execution_count": 12
        }
      ]
    },
    {
      "cell_type": "code",
      "source": [
        "pd.set_option('display.max_colwidth', None)\n",
        "df['TranslatedIngredients']"
      ],
      "metadata": {
        "colab": {
          "base_uri": "https://localhost:8080/",
          "height": 736
        },
        "id": "yb6GctoFTJ2J",
        "outputId": "60df374f-bf7c-427c-aa9c-0d5e0b8e4eef"
      },
      "execution_count": null,
      "outputs": [
        {
          "output_type": "execute_result",
          "data": {
            "text/plain": [
              "0                                                                                                                                                                                                                                                                            6 Karela (Bitter Gourd/ Pavakkai) - deseeded,Salt - to taste,1 Onion - thinly sliced,3 tablespoon Gram flour (besan),2 teaspoons Turmeric powder (Haldi),1 tablespoon Red Chilli powder,2 teaspoons Cumin seeds (Jeera),1 tablespoon Coriander Powder (Dhania),1 tablespoon Amchur (Dry Mango Powder),Sunflower Oil - as required\n",
              "1                                                                                                                                                                                                                                                                                    2-1 / 2 cups rice - cooked, 3 tomatoes, 3 teaspoons BC Belle Bhat powder, salt - as per taste, 1 teaspoon chickpea lentils, 1/2 teaspoon cumin seeds, 1 teaspoon white urad dal, 1/2 Teaspoon mustard, 1 green chilli, 1 dry red chilli, 2 teaspoon cashew - or peanuts, 1-1 / 2 tablespoon oil - 1/2 teaspoon asafoetida\n",
              "2                                                                                                                                                                                                                                                                                              1-1/2 cups Rice Vermicelli Noodles (Thin),1 Onion - sliced,1/2 cup Carrots (Gajjar) - chopped,1/3 cup Green peas (Matar),2 Green Chillies,1/4 teaspoon Asafoetida (hing),1 teaspoon Mustard seeds,1 teaspoon White Urad Dal (Split),1 teaspoon Ghee,1 sprig Curry leaves,Salt - to taste,1 teaspoon Lemon juice\n",
              "3                                                                               500 grams Chicken,2 Onion - chopped,1 Tomato - chopped,4 Green Chillies - slit,1 inch Ginger - finely chopped,6 cloves Garlic - finely chopped,1/2 teaspoon Turmeric powder (Haldi),1 teaspoon Garam masala powder,2 tablespoon Sesame (Gingelly) Oil,Salt - to taste,1/4 teaspoon Methi Seeds (Fenugreek Seeds),1 tablespoon Coriander (Dhania) Seeds,4 Dry Red Chillies,1 teaspoon Fennel seeds (Saunf),1 teaspoon Sesame (Gingelly) Oil,4 cloves Garlic,2 cups Sorrel Leaves (Gongura) - picked and chopped,Salt - to taste\n",
              "4                                                                                                                                                                                                                                                                                                                                                   1 tablespoon chana dal, 1 tablespoon white urad dal, 2 red chillies, 1 tablespoon coriander seeds, 3 inches ginger - chop, 1 onion - chop, 1 tomato - chop, salt - as per taste, 1 Teaspoon mustard, asafoetida - a pinch, oil - as per use, 1 sprig curry\n",
              "                                                                                                                                                                                                                                                                                                         ...                                                                                                                                                                                                                                                                                                  \n",
              "6866                                                                                                                                                                                                                                                                                                  20 बटन मशरुम,2 प्याज - काट ले,1 टमाटर - बारीक काट ले,3 टहनी हरा धनिया - बारीक काट ले,1/2 कप नारियल - कस ले,4 सुखी लाल मिर्च - क्रश कर ले,1 छोटा चम्मच धनिये के बीज,5 पूरी काली मिर्च,2 लॉन्ग,1 छोटा चम्मच हल्दी पाउडर,1 छोटा चम्मच गरम मसाला पाउडर,1/2 इमली - छोटा सा,नमक - स्वाद अनुसार,3 बड़े चम्मच तेल\n",
              "6867                                                                                                                                                                                                                                                                                                                   1 बड़ा चम्मच तेल,1 कप गेहूं का आटा,नमक - स्वाद अनुसार,2 शकरकंदी - छीलकर उबाल ले,1 कप मेथी - काट ले,1 छोटा चम्मच जीरा,1 इंच अदरक - काट ले,1 हरी मिर्च - काट ले,1 छोटा चम्मच हल्दी पाउडर,1 छोटा चम्मच लाल मिर्च पाउडर,1 छोटा चम्मच धनिया पाउडर,2 बड़ा चम्मच सरसों का तेल,नमक - स्वाद अनुसार\n",
              "6868                                                                                                                                                             150 grams Spring Onion (Bulb & Greens) - chopped,3/4 cup Tamarind Water,1 tablespoon Gram flour (besan),2 teaspoons Sunflower Oil,1 teaspoon Mustard seeds,1 teaspoon Cumin seeds (Jeera),2 Dry Red Chillies,1 pinch Asafoetida (hing),1 pinch Turmeric powder (Haldi),Salt - to atste,2 teaspoons Coriander (Dhania) Seeds,1 teaspoon Cumin seeds (Jeera),1/2 teaspoon Mustard seeds,1/4 teaspoon Methi Seeds (Fenugreek Seeds),2 cups Water\n",
              "6869                                                                                                                                                                                                                                     1 kg Chicken - medium pieces,1/2 cup Mustard oil,Ghee - as required,1-1/2 kg Curd (Dahi / Yogurt),2 inch Cinnamon Stick (Dalchini),2 to 3 Black cardamom (Badi Elaichi),3 to 4 Cloves (Laung),2 teaspoons Asafoetida (hing),2 Bay leaf (tej patta),1 teaspoon Cumin seeds (Jeera),1-1/2 teaspoons Fennel Powder,Salt - as required,1/2 cup Mint Leaves (Pudina) - dry\n",
              "6870    2 बड़े चम्मच हरी मूंग दाल,2 बड़े चम्मच सफ़ेद उरद दाल,2 बड़े चम्मच काली उरद दाल (स्प्लिट),2 बड़े चम्मच मसूर दाल (स्प्लिट),2 बड़े चम्मच मसूर दाल,2 बड़े चम्मच राजमा,2 बड़े चम्मच काबुली चना या छोला,1/4 कप पिली मूंग दाल - 20 मिनट के लिए भिगो दे,1 बड़ा चम्मच अरहर दाल - 20 मिनट के लिए भिगो दे,1 प्याज - बारीक काट ले,1 टमाटर - बारीक काट ले,1 बड़ा चम्मच अदरक लहसुन का पेस्ट,1 हरी मिर्च - सीधा काट ले,2 छोटे चम्मच धनिया पाउडर,1 छोटा चम्मच लाल मिर्च पाउडर,2 छोटे चम्मच गरम मसाला पाउडर,1 बड़ा चम्मच कसूरी मेथी,1 इंच अदरक - सीधा और पतला काट ले,2 बड़े चम्मच घी,1 छोटा चम्मच जीरा,1 दालचीनी,नमक - स्वाद अनुसार\n",
              "Name: TranslatedIngredients, Length: 6865, dtype: object"
            ],
            "text/html": [
              "<div>\n",
              "<style scoped>\n",
              "    .dataframe tbody tr th:only-of-type {\n",
              "        vertical-align: middle;\n",
              "    }\n",
              "\n",
              "    .dataframe tbody tr th {\n",
              "        vertical-align: top;\n",
              "    }\n",
              "\n",
              "    .dataframe thead th {\n",
              "        text-align: right;\n",
              "    }\n",
              "</style>\n",
              "<table border=\"1\" class=\"dataframe\">\n",
              "  <thead>\n",
              "    <tr style=\"text-align: right;\">\n",
              "      <th></th>\n",
              "      <th>TranslatedIngredients</th>\n",
              "    </tr>\n",
              "  </thead>\n",
              "  <tbody>\n",
              "    <tr>\n",
              "      <th>0</th>\n",
              "      <td>6 Karela (Bitter Gourd/ Pavakkai) - deseeded,Salt - to taste,1 Onion - thinly sliced,3 tablespoon Gram flour (besan),2 teaspoons Turmeric powder (Haldi),1 tablespoon Red Chilli powder,2 teaspoons Cumin seeds (Jeera),1 tablespoon Coriander Powder (Dhania),1 tablespoon Amchur (Dry Mango Powder),Sunflower Oil - as required</td>\n",
              "    </tr>\n",
              "    <tr>\n",
              "      <th>1</th>\n",
              "      <td>2-1 / 2 cups rice - cooked, 3 tomatoes, 3 teaspoons BC Belle Bhat powder, salt - as per taste, 1 teaspoon chickpea lentils, 1/2 teaspoon cumin seeds, 1 teaspoon white urad dal, 1/2 Teaspoon mustard, 1 green chilli, 1 dry red chilli, 2 teaspoon cashew - or peanuts, 1-1 / 2 tablespoon oil - 1/2 teaspoon asafoetida</td>\n",
              "    </tr>\n",
              "    <tr>\n",
              "      <th>2</th>\n",
              "      <td>1-1/2 cups Rice Vermicelli Noodles (Thin),1 Onion - sliced,1/2 cup Carrots (Gajjar) - chopped,1/3 cup Green peas (Matar),2 Green Chillies,1/4 teaspoon Asafoetida (hing),1 teaspoon Mustard seeds,1 teaspoon White Urad Dal (Split),1 teaspoon Ghee,1 sprig Curry leaves,Salt - to taste,1 teaspoon Lemon juice</td>\n",
              "    </tr>\n",
              "    <tr>\n",
              "      <th>3</th>\n",
              "      <td>500 grams Chicken,2 Onion - chopped,1 Tomato - chopped,4 Green Chillies - slit,1 inch Ginger - finely chopped,6 cloves Garlic - finely chopped,1/2 teaspoon Turmeric powder (Haldi),1 teaspoon Garam masala powder,2 tablespoon Sesame (Gingelly) Oil,Salt - to taste,1/4 teaspoon Methi Seeds (Fenugreek Seeds),1 tablespoon Coriander (Dhania) Seeds,4 Dry Red Chillies,1 teaspoon Fennel seeds (Saunf),1 teaspoon Sesame (Gingelly) Oil,4 cloves Garlic,2 cups Sorrel Leaves (Gongura) - picked and chopped,Salt - to taste</td>\n",
              "    </tr>\n",
              "    <tr>\n",
              "      <th>4</th>\n",
              "      <td>1 tablespoon chana dal, 1 tablespoon white urad dal, 2 red chillies, 1 tablespoon coriander seeds, 3 inches ginger - chop, 1 onion - chop, 1 tomato - chop, salt - as per taste, 1 Teaspoon mustard, asafoetida - a pinch, oil - as per use, 1 sprig curry</td>\n",
              "    </tr>\n",
              "    <tr>\n",
              "      <th>...</th>\n",
              "      <td>...</td>\n",
              "    </tr>\n",
              "    <tr>\n",
              "      <th>6866</th>\n",
              "      <td>20 बटन मशरुम,2 प्याज - काट ले,1 टमाटर - बारीक काट ले,3 टहनी हरा धनिया - बारीक काट ले,1/2 कप नारियल - कस ले,4 सुखी लाल मिर्च - क्रश कर ले,1 छोटा चम्मच धनिये के बीज,5 पूरी काली मिर्च,2 लॉन्ग,1 छोटा चम्मच हल्दी पाउडर,1 छोटा चम्मच गरम मसाला पाउडर,1/2 इमली - छोटा सा,नमक - स्वाद अनुसार,3 बड़े चम्मच तेल</td>\n",
              "    </tr>\n",
              "    <tr>\n",
              "      <th>6867</th>\n",
              "      <td>1 बड़ा चम्मच तेल,1 कप गेहूं का आटा,नमक - स्वाद अनुसार,2 शकरकंदी - छीलकर उबाल ले,1 कप मेथी - काट ले,1 छोटा चम्मच जीरा,1 इंच अदरक - काट ले,1 हरी मिर्च - काट ले,1 छोटा चम्मच हल्दी पाउडर,1 छोटा चम्मच लाल मिर्च पाउडर,1 छोटा चम्मच धनिया पाउडर,2 बड़ा चम्मच सरसों का तेल,नमक - स्वाद अनुसार</td>\n",
              "    </tr>\n",
              "    <tr>\n",
              "      <th>6868</th>\n",
              "      <td>150 grams Spring Onion (Bulb &amp; Greens) - chopped,3/4 cup Tamarind Water,1 tablespoon Gram flour (besan),2 teaspoons Sunflower Oil,1 teaspoon Mustard seeds,1 teaspoon Cumin seeds (Jeera),2 Dry Red Chillies,1 pinch Asafoetida (hing),1 pinch Turmeric powder (Haldi),Salt - to atste,2 teaspoons Coriander (Dhania) Seeds,1 teaspoon Cumin seeds (Jeera),1/2 teaspoon Mustard seeds,1/4 teaspoon Methi Seeds (Fenugreek Seeds),2 cups Water</td>\n",
              "    </tr>\n",
              "    <tr>\n",
              "      <th>6869</th>\n",
              "      <td>1 kg Chicken - medium pieces,1/2 cup Mustard oil,Ghee - as required,1-1/2 kg Curd (Dahi / Yogurt),2 inch Cinnamon Stick (Dalchini),2 to 3 Black cardamom (Badi Elaichi),3 to 4 Cloves (Laung),2 teaspoons Asafoetida (hing),2 Bay leaf (tej patta),1 teaspoon Cumin seeds (Jeera),1-1/2 teaspoons Fennel Powder,Salt - as required,1/2 cup Mint Leaves (Pudina) - dry</td>\n",
              "    </tr>\n",
              "    <tr>\n",
              "      <th>6870</th>\n",
              "      <td>2 बड़े चम्मच हरी मूंग दाल,2 बड़े चम्मच सफ़ेद उरद दाल,2 बड़े चम्मच काली उरद दाल (स्प्लिट),2 बड़े चम्मच मसूर दाल (स्प्लिट),2 बड़े चम्मच मसूर दाल,2 बड़े चम्मच राजमा,2 बड़े चम्मच काबुली चना या छोला,1/4 कप पिली मूंग दाल - 20 मिनट के लिए भिगो दे,1 बड़ा चम्मच अरहर दाल - 20 मिनट के लिए भिगो दे,1 प्याज - बारीक काट ले,1 टमाटर - बारीक काट ले,1 बड़ा चम्मच अदरक लहसुन का पेस्ट,1 हरी मिर्च - सीधा काट ले,2 छोटे चम्मच धनिया पाउडर,1 छोटा चम्मच लाल मिर्च पाउडर,2 छोटे चम्मच गरम मसाला पाउडर,1 बड़ा चम्मच कसूरी मेथी,1 इंच अदरक - सीधा और पतला काट ले,2 बड़े चम्मच घी,1 छोटा चम्मच जीरा,1 दालचीनी,नमक - स्वाद अनुसार</td>\n",
              "    </tr>\n",
              "  </tbody>\n",
              "</table>\n",
              "<p>6865 rows × 1 columns</p>\n",
              "</div><br><label><b>dtype:</b> object</label>"
            ]
          },
          "metadata": {},
          "execution_count": 13
        }
      ]
    },
    {
      "cell_type": "code",
      "source": [
        "import re\n",
        "non_english_pattern = re.compile(r'[^\\x00-\\x7F]+')\n",
        "mask = df['TranslatedIngredients'].str.contains(non_english_pattern, na=False)\n",
        "df_english = df[~mask].reset_index(drop=True)"
      ],
      "metadata": {
        "id": "-zMTc-qJVh_v"
      },
      "execution_count": null,
      "outputs": []
    },
    {
      "cell_type": "code",
      "source": [
        "df_english['TranslatedIngredients'].head()"
      ],
      "metadata": {
        "colab": {
          "base_uri": "https://localhost:8080/",
          "height": 345
        },
        "id": "wUQqhf3NY_I3",
        "outputId": "ed085a5d-232d-421f-865f-49b2ae0259fa"
      },
      "execution_count": null,
      "outputs": [
        {
          "output_type": "execute_result",
          "data": {
            "text/plain": [
              "0                                                                                                                                                                                                 6 Karela (Bitter Gourd/ Pavakkai) - deseeded,Salt - to taste,1 Onion - thinly sliced,3 tablespoon Gram flour (besan),2 teaspoons Turmeric powder (Haldi),1 tablespoon Red Chilli powder,2 teaspoons Cumin seeds (Jeera),1 tablespoon Coriander Powder (Dhania),1 tablespoon Amchur (Dry Mango Powder),Sunflower Oil - as required\n",
              "1                                                                                                                                                                                                         2-1 / 2 cups rice - cooked, 3 tomatoes, 3 teaspoons BC Belle Bhat powder, salt - as per taste, 1 teaspoon chickpea lentils, 1/2 teaspoon cumin seeds, 1 teaspoon white urad dal, 1/2 Teaspoon mustard, 1 green chilli, 1 dry red chilli, 2 teaspoon cashew - or peanuts, 1-1 / 2 tablespoon oil - 1/2 teaspoon asafoetida\n",
              "2                                                                                                                                                                                                                   1-1/2 cups Rice Vermicelli Noodles (Thin),1 Onion - sliced,1/2 cup Carrots (Gajjar) - chopped,1/3 cup Green peas (Matar),2 Green Chillies,1/4 teaspoon Asafoetida (hing),1 teaspoon Mustard seeds,1 teaspoon White Urad Dal (Split),1 teaspoon Ghee,1 sprig Curry leaves,Salt - to taste,1 teaspoon Lemon juice\n",
              "3    500 grams Chicken,2 Onion - chopped,1 Tomato - chopped,4 Green Chillies - slit,1 inch Ginger - finely chopped,6 cloves Garlic - finely chopped,1/2 teaspoon Turmeric powder (Haldi),1 teaspoon Garam masala powder,2 tablespoon Sesame (Gingelly) Oil,Salt - to taste,1/4 teaspoon Methi Seeds (Fenugreek Seeds),1 tablespoon Coriander (Dhania) Seeds,4 Dry Red Chillies,1 teaspoon Fennel seeds (Saunf),1 teaspoon Sesame (Gingelly) Oil,4 cloves Garlic,2 cups Sorrel Leaves (Gongura) - picked and chopped,Salt - to taste\n",
              "4                                                                                                                                                                                                                                                                        1 tablespoon chana dal, 1 tablespoon white urad dal, 2 red chillies, 1 tablespoon coriander seeds, 3 inches ginger - chop, 1 onion - chop, 1 tomato - chop, salt - as per taste, 1 Teaspoon mustard, asafoetida - a pinch, oil - as per use, 1 sprig curry\n",
              "Name: TranslatedIngredients, dtype: object"
            ],
            "text/html": [
              "<div>\n",
              "<style scoped>\n",
              "    .dataframe tbody tr th:only-of-type {\n",
              "        vertical-align: middle;\n",
              "    }\n",
              "\n",
              "    .dataframe tbody tr th {\n",
              "        vertical-align: top;\n",
              "    }\n",
              "\n",
              "    .dataframe thead th {\n",
              "        text-align: right;\n",
              "    }\n",
              "</style>\n",
              "<table border=\"1\" class=\"dataframe\">\n",
              "  <thead>\n",
              "    <tr style=\"text-align: right;\">\n",
              "      <th></th>\n",
              "      <th>TranslatedIngredients</th>\n",
              "    </tr>\n",
              "  </thead>\n",
              "  <tbody>\n",
              "    <tr>\n",
              "      <th>0</th>\n",
              "      <td>6 Karela (Bitter Gourd/ Pavakkai) - deseeded,Salt - to taste,1 Onion - thinly sliced,3 tablespoon Gram flour (besan),2 teaspoons Turmeric powder (Haldi),1 tablespoon Red Chilli powder,2 teaspoons Cumin seeds (Jeera),1 tablespoon Coriander Powder (Dhania),1 tablespoon Amchur (Dry Mango Powder),Sunflower Oil - as required</td>\n",
              "    </tr>\n",
              "    <tr>\n",
              "      <th>1</th>\n",
              "      <td>2-1 / 2 cups rice - cooked, 3 tomatoes, 3 teaspoons BC Belle Bhat powder, salt - as per taste, 1 teaspoon chickpea lentils, 1/2 teaspoon cumin seeds, 1 teaspoon white urad dal, 1/2 Teaspoon mustard, 1 green chilli, 1 dry red chilli, 2 teaspoon cashew - or peanuts, 1-1 / 2 tablespoon oil - 1/2 teaspoon asafoetida</td>\n",
              "    </tr>\n",
              "    <tr>\n",
              "      <th>2</th>\n",
              "      <td>1-1/2 cups Rice Vermicelli Noodles (Thin),1 Onion - sliced,1/2 cup Carrots (Gajjar) - chopped,1/3 cup Green peas (Matar),2 Green Chillies,1/4 teaspoon Asafoetida (hing),1 teaspoon Mustard seeds,1 teaspoon White Urad Dal (Split),1 teaspoon Ghee,1 sprig Curry leaves,Salt - to taste,1 teaspoon Lemon juice</td>\n",
              "    </tr>\n",
              "    <tr>\n",
              "      <th>3</th>\n",
              "      <td>500 grams Chicken,2 Onion - chopped,1 Tomato - chopped,4 Green Chillies - slit,1 inch Ginger - finely chopped,6 cloves Garlic - finely chopped,1/2 teaspoon Turmeric powder (Haldi),1 teaspoon Garam masala powder,2 tablespoon Sesame (Gingelly) Oil,Salt - to taste,1/4 teaspoon Methi Seeds (Fenugreek Seeds),1 tablespoon Coriander (Dhania) Seeds,4 Dry Red Chillies,1 teaspoon Fennel seeds (Saunf),1 teaspoon Sesame (Gingelly) Oil,4 cloves Garlic,2 cups Sorrel Leaves (Gongura) - picked and chopped,Salt - to taste</td>\n",
              "    </tr>\n",
              "    <tr>\n",
              "      <th>4</th>\n",
              "      <td>1 tablespoon chana dal, 1 tablespoon white urad dal, 2 red chillies, 1 tablespoon coriander seeds, 3 inches ginger - chop, 1 onion - chop, 1 tomato - chop, salt - as per taste, 1 Teaspoon mustard, asafoetida - a pinch, oil - as per use, 1 sprig curry</td>\n",
              "    </tr>\n",
              "  </tbody>\n",
              "</table>\n",
              "</div><br><label><b>dtype:</b> object</label>"
            ]
          },
          "metadata": {},
          "execution_count": 15
        }
      ]
    },
    {
      "cell_type": "code",
      "source": [
        "import spacy"
      ],
      "metadata": {
        "id": "Zi3Dupt3VvSd"
      },
      "execution_count": null,
      "outputs": []
    },
    {
      "cell_type": "code",
      "source": [
        "work = spacy.load(\"en_core_web_sm\")"
      ],
      "metadata": {
        "id": "UuGLIJ5kVwzq"
      },
      "execution_count": null,
      "outputs": []
    },
    {
      "cell_type": "code",
      "source": [
        "def extract_ingredients(text):\n",
        "    if pd.isnull(text):\n",
        "        return \"\"\n",
        "    doc = work(text)\n",
        "    ingredients = [token.text for token in doc if token.pos_ in ['NOUN', 'PROPN'] or token.dep_ == 'compound']\n",
        "    return ', '.join(ingredients)"
      ],
      "metadata": {
        "id": "EsCOTxn8WE84"
      },
      "execution_count": null,
      "outputs": []
    },
    {
      "cell_type": "code",
      "source": [
        "df_english.loc[:, 'ExtractedIngredients'] = df_english['TranslatedIngredients'].apply(extract_ingredients)"
      ],
      "metadata": {
        "id": "qMo6qR1EWKyr"
      },
      "execution_count": null,
      "outputs": []
    },
    {
      "cell_type": "code",
      "source": [
        "df_english['ExtractedIngredients'].head()"
      ],
      "metadata": {
        "colab": {
          "base_uri": "https://localhost:8080/",
          "height": 345
        },
        "id": "NFFDjZ3xZB3C",
        "outputId": "5c91c66b-1148-48c6-9642-c5cb71bd9af4"
      },
      "execution_count": null,
      "outputs": [
        {
          "output_type": "execute_result",
          "data": {
            "text/plain": [
              "0                                                                                                                                                                               Karela, Gourd/, Pavakkai, Salt, taste,1, Onion, sliced,3, tablespoon, Gram, flour, teaspoons, Turmeric, powder, tablespoon, Red, Chilli, powder,2, teaspoons, Cumin, seeds, tablespoon, Coriander, Powder, Dhania),1, tablespoon, Amchur, Dry, Mango, Powder),Sunflower, Oil\n",
              "1                                                                                                                                                                                                             cups, rice, tomatoes, teaspoons, BC, Belle, powder, salt, taste, teaspoon, chickpea, lentils, teaspoon, cumin, seeds, teaspoon, urad, dal, Teaspoon, mustard, chilli, chilli, teaspoon, cashew, peanuts, tablespoon, oil, teaspoon, asafoetida\n",
              "2                                                                                                                                           1, cups, Rice, Vermicelli, Noodles, Thin),1, Onion, sliced,1/2, cup, Carrots, Gajjar, chopped,1/3, cup, Green, peas, Matar),2, Green, Chillies,1/4, teaspoon, Asafoetida, hing),1, teaspoon, Mustard, seeds,1, teaspoon, White, Urad, Dal, teaspoon, Ghee,1, sprig, Curry, Salt, taste,1, teaspoon, Lemon, juice\n",
              "3    grams, Chicken,2, Onion, chopped,1, Tomato, chopped,4, Green, Chillies, slit,1, inch, Ginger, Garlic, teaspoon, Turmeric, powder, teaspoon, Garam, masala, powder,2, tablespoon, Sesame, Gingelly, Oil, Salt, taste,1/4, teaspoon, Methi, Seeds, Fenugreek, Seeds),1, tablespoon, Coriander, Dhania, Seeds,4, Dry, Red, Chillies,1, teaspoon, Fennel, seeds, Saunf),1, teaspoon, Sesame, Gingelly, Oil,4, Garlic,2, cups, Sorrel, Leaves, Gongura, Salt\n",
              "4                                                                                                                                                                                                                                          tablespoon, chana, dal, tablespoon, urad, dal, chillies, tablespoon, coriander, seeds, inches, ginger, chop, onion, chop, tomato, chop, salt, taste, Teaspoon, mustard, asafoetida, pinch, oil, use, sprig, curry\n",
              "Name: ExtractedIngredients, dtype: object"
            ],
            "text/html": [
              "<div>\n",
              "<style scoped>\n",
              "    .dataframe tbody tr th:only-of-type {\n",
              "        vertical-align: middle;\n",
              "    }\n",
              "\n",
              "    .dataframe tbody tr th {\n",
              "        vertical-align: top;\n",
              "    }\n",
              "\n",
              "    .dataframe thead th {\n",
              "        text-align: right;\n",
              "    }\n",
              "</style>\n",
              "<table border=\"1\" class=\"dataframe\">\n",
              "  <thead>\n",
              "    <tr style=\"text-align: right;\">\n",
              "      <th></th>\n",
              "      <th>ExtractedIngredients</th>\n",
              "    </tr>\n",
              "  </thead>\n",
              "  <tbody>\n",
              "    <tr>\n",
              "      <th>0</th>\n",
              "      <td>Karela, Gourd/, Pavakkai, Salt, taste,1, Onion, sliced,3, tablespoon, Gram, flour, teaspoons, Turmeric, powder, tablespoon, Red, Chilli, powder,2, teaspoons, Cumin, seeds, tablespoon, Coriander, Powder, Dhania),1, tablespoon, Amchur, Dry, Mango, Powder),Sunflower, Oil</td>\n",
              "    </tr>\n",
              "    <tr>\n",
              "      <th>1</th>\n",
              "      <td>cups, rice, tomatoes, teaspoons, BC, Belle, powder, salt, taste, teaspoon, chickpea, lentils, teaspoon, cumin, seeds, teaspoon, urad, dal, Teaspoon, mustard, chilli, chilli, teaspoon, cashew, peanuts, tablespoon, oil, teaspoon, asafoetida</td>\n",
              "    </tr>\n",
              "    <tr>\n",
              "      <th>2</th>\n",
              "      <td>1, cups, Rice, Vermicelli, Noodles, Thin),1, Onion, sliced,1/2, cup, Carrots, Gajjar, chopped,1/3, cup, Green, peas, Matar),2, Green, Chillies,1/4, teaspoon, Asafoetida, hing),1, teaspoon, Mustard, seeds,1, teaspoon, White, Urad, Dal, teaspoon, Ghee,1, sprig, Curry, Salt, taste,1, teaspoon, Lemon, juice</td>\n",
              "    </tr>\n",
              "    <tr>\n",
              "      <th>3</th>\n",
              "      <td>grams, Chicken,2, Onion, chopped,1, Tomato, chopped,4, Green, Chillies, slit,1, inch, Ginger, Garlic, teaspoon, Turmeric, powder, teaspoon, Garam, masala, powder,2, tablespoon, Sesame, Gingelly, Oil, Salt, taste,1/4, teaspoon, Methi, Seeds, Fenugreek, Seeds),1, tablespoon, Coriander, Dhania, Seeds,4, Dry, Red, Chillies,1, teaspoon, Fennel, seeds, Saunf),1, teaspoon, Sesame, Gingelly, Oil,4, Garlic,2, cups, Sorrel, Leaves, Gongura, Salt</td>\n",
              "    </tr>\n",
              "    <tr>\n",
              "      <th>4</th>\n",
              "      <td>tablespoon, chana, dal, tablespoon, urad, dal, chillies, tablespoon, coriander, seeds, inches, ginger, chop, onion, chop, tomato, chop, salt, taste, Teaspoon, mustard, asafoetida, pinch, oil, use, sprig, curry</td>\n",
              "    </tr>\n",
              "  </tbody>\n",
              "</table>\n",
              "</div><br><label><b>dtype:</b> object</label>"
            ]
          },
          "metadata": {},
          "execution_count": 20
        }
      ]
    },
    {
      "cell_type": "code",
      "source": [
        "def clean_ingredients(text):\n",
        "    text = re.sub(r'\\d+', '', text)\n",
        "    text = re.sub(r'[()\\[\\]/]', '', text)\n",
        "    return text"
      ],
      "metadata": {
        "id": "HpV_R-XFWOli"
      },
      "execution_count": null,
      "outputs": []
    },
    {
      "cell_type": "code",
      "source": [
        "df_english.loc[:, 'ExtractedIngredients'] = df_english['ExtractedIngredients'].apply(clean_ingredients)"
      ],
      "metadata": {
        "id": "NjfAt8jjWS4L"
      },
      "execution_count": null,
      "outputs": []
    },
    {
      "cell_type": "code",
      "source": [
        "df_english.info()"
      ],
      "metadata": {
        "colab": {
          "base_uri": "https://localhost:8080/"
        },
        "id": "pzAZzdQDYuIp",
        "outputId": "3327aa1d-1b56-4cdb-853e-aa03d8454002"
      },
      "execution_count": null,
      "outputs": [
        {
          "output_type": "stream",
          "name": "stdout",
          "text": [
            "<class 'pandas.core.frame.DataFrame'>\n",
            "RangeIndex: 6173 entries, 0 to 6172\n",
            "Data columns (total 17 columns):\n",
            " #   Column                  Non-Null Count  Dtype \n",
            "---  ------                  --------------  ----- \n",
            " 0   Srno                    6173 non-null   int64 \n",
            " 1   RecipeName              6173 non-null   object\n",
            " 2   TranslatedRecipeName    6173 non-null   object\n",
            " 3   Ingredients             6173 non-null   object\n",
            " 4   TranslatedIngredients   6173 non-null   object\n",
            " 5   PrepTimeInMins          6173 non-null   int64 \n",
            " 6   CookTimeInMins          6173 non-null   int64 \n",
            " 7   TotalTimeInMins         6173 non-null   int64 \n",
            " 8   Servings                6173 non-null   int64 \n",
            " 9   Cuisine                 6173 non-null   object\n",
            " 10  Course                  6173 non-null   object\n",
            " 11  Diet                    6173 non-null   object\n",
            " 12  Instructions            6173 non-null   object\n",
            " 13  TranslatedInstructions  6173 non-null   object\n",
            " 14  URL                     6173 non-null   object\n",
            " 15  EstimatedCalories       6173 non-null   int64 \n",
            " 16  ExtractedIngredients    6173 non-null   object\n",
            "dtypes: int64(6), object(11)\n",
            "memory usage: 820.0+ KB\n"
          ]
        }
      ]
    },
    {
      "cell_type": "code",
      "source": [
        "df_english['TranslatedIngredients']"
      ],
      "metadata": {
        "colab": {
          "base_uri": "https://localhost:8080/",
          "height": 718
        },
        "id": "yENd4BBEYvvL",
        "outputId": "e54959c8-8cf0-401d-988a-2561dd2f936c"
      },
      "execution_count": null,
      "outputs": [
        {
          "output_type": "execute_result",
          "data": {
            "text/plain": [
              "0                                                                                                                                                                                                    6 Karela (Bitter Gourd/ Pavakkai) - deseeded,Salt - to taste,1 Onion - thinly sliced,3 tablespoon Gram flour (besan),2 teaspoons Turmeric powder (Haldi),1 tablespoon Red Chilli powder,2 teaspoons Cumin seeds (Jeera),1 tablespoon Coriander Powder (Dhania),1 tablespoon Amchur (Dry Mango Powder),Sunflower Oil - as required\n",
              "1                                                                                                                                                                                                            2-1 / 2 cups rice - cooked, 3 tomatoes, 3 teaspoons BC Belle Bhat powder, salt - as per taste, 1 teaspoon chickpea lentils, 1/2 teaspoon cumin seeds, 1 teaspoon white urad dal, 1/2 Teaspoon mustard, 1 green chilli, 1 dry red chilli, 2 teaspoon cashew - or peanuts, 1-1 / 2 tablespoon oil - 1/2 teaspoon asafoetida\n",
              "2                                                                                                                                                                                                                      1-1/2 cups Rice Vermicelli Noodles (Thin),1 Onion - sliced,1/2 cup Carrots (Gajjar) - chopped,1/3 cup Green peas (Matar),2 Green Chillies,1/4 teaspoon Asafoetida (hing),1 teaspoon Mustard seeds,1 teaspoon White Urad Dal (Split),1 teaspoon Ghee,1 sprig Curry leaves,Salt - to taste,1 teaspoon Lemon juice\n",
              "3       500 grams Chicken,2 Onion - chopped,1 Tomato - chopped,4 Green Chillies - slit,1 inch Ginger - finely chopped,6 cloves Garlic - finely chopped,1/2 teaspoon Turmeric powder (Haldi),1 teaspoon Garam masala powder,2 tablespoon Sesame (Gingelly) Oil,Salt - to taste,1/4 teaspoon Methi Seeds (Fenugreek Seeds),1 tablespoon Coriander (Dhania) Seeds,4 Dry Red Chillies,1 teaspoon Fennel seeds (Saunf),1 teaspoon Sesame (Gingelly) Oil,4 cloves Garlic,2 cups Sorrel Leaves (Gongura) - picked and chopped,Salt - to taste\n",
              "4                                                                                                                                                                                                                                                                           1 tablespoon chana dal, 1 tablespoon white urad dal, 2 red chillies, 1 tablespoon coriander seeds, 3 inches ginger - chop, 1 onion - chop, 1 tomato - chop, salt - as per taste, 1 Teaspoon mustard, asafoetida - a pinch, oil - as per use, 1 sprig curry\n",
              "                                                                                                                                                                                                                                                                     ...                                                                                                                                                                                                                                                              \n",
              "6168                                                                                                                                                                                                                                                                                                                     2 cups Paneer (Homemade Cottage Cheese) - crumbled,4 tablespoons Sugar,1/2 teaspoon Cardamom Powder (Elaichi),Saffron strands - a generous pinch,2 tablespoons Water,1/2 teaspoon Ghee,2 teaspoons Rose water\n",
              "6169       1-1/2 cup Risotto - cooked risotto (recipe below),1 cup Parmesan cheese - grated,1/2 cup Gorgonzola cheese - cut into 1/4 inch cubes,4 sprig Basil leaves - finely chopped,2 Whole Eggs,2 cups Whole Wheat Bread crumbs - Italian style seasoned,Homemade Pizza And Pasta Sauce - or Marinara Sauce for serving,1 cup Arborio rice,2 cups Vegetable stock - or chicken broth,1/4 cup Butter,1 Onion - finely chopped,1/2 cup Dry white wine,1/2 cup Parmesan cheese - grated,Salt - to taste,Black pepper powder - to taste\n",
              "6170                                                                                                                                                                                                                                    1 cup Quinoa,3/4 cup Sugar,1 teaspoon Cardamom Powder (Elaichi),2 cup Milk - vegans can substitute this ingredient with almond milk,1/2 tablespoon Condensed Milk - or khoya (mawa) vegans can eliminate this ingredient,1/2 tablespoon Ghee,1/4 teaspoon Saffron strands,Mixed nuts - chopped\n",
              "6171                                                                                     150 grams Spring Onion (Bulb & Greens) - chopped,3/4 cup Tamarind Water,1 tablespoon Gram flour (besan),2 teaspoons Sunflower Oil,1 teaspoon Mustard seeds,1 teaspoon Cumin seeds (Jeera),2 Dry Red Chillies,1 pinch Asafoetida (hing),1 pinch Turmeric powder (Haldi),Salt - to atste,2 teaspoons Coriander (Dhania) Seeds,1 teaspoon Cumin seeds (Jeera),1/2 teaspoon Mustard seeds,1/4 teaspoon Methi Seeds (Fenugreek Seeds),2 cups Water\n",
              "6172                                                                                                                                                             1 kg Chicken - medium pieces,1/2 cup Mustard oil,Ghee - as required,1-1/2 kg Curd (Dahi / Yogurt),2 inch Cinnamon Stick (Dalchini),2 to 3 Black cardamom (Badi Elaichi),3 to 4 Cloves (Laung),2 teaspoons Asafoetida (hing),2 Bay leaf (tej patta),1 teaspoon Cumin seeds (Jeera),1-1/2 teaspoons Fennel Powder,Salt - as required,1/2 cup Mint Leaves (Pudina) - dry\n",
              "Name: TranslatedIngredients, Length: 6173, dtype: object"
            ],
            "text/html": [
              "<div>\n",
              "<style scoped>\n",
              "    .dataframe tbody tr th:only-of-type {\n",
              "        vertical-align: middle;\n",
              "    }\n",
              "\n",
              "    .dataframe tbody tr th {\n",
              "        vertical-align: top;\n",
              "    }\n",
              "\n",
              "    .dataframe thead th {\n",
              "        text-align: right;\n",
              "    }\n",
              "</style>\n",
              "<table border=\"1\" class=\"dataframe\">\n",
              "  <thead>\n",
              "    <tr style=\"text-align: right;\">\n",
              "      <th></th>\n",
              "      <th>TranslatedIngredients</th>\n",
              "    </tr>\n",
              "  </thead>\n",
              "  <tbody>\n",
              "    <tr>\n",
              "      <th>0</th>\n",
              "      <td>6 Karela (Bitter Gourd/ Pavakkai) - deseeded,Salt - to taste,1 Onion - thinly sliced,3 tablespoon Gram flour (besan),2 teaspoons Turmeric powder (Haldi),1 tablespoon Red Chilli powder,2 teaspoons Cumin seeds (Jeera),1 tablespoon Coriander Powder (Dhania),1 tablespoon Amchur (Dry Mango Powder),Sunflower Oil - as required</td>\n",
              "    </tr>\n",
              "    <tr>\n",
              "      <th>1</th>\n",
              "      <td>2-1 / 2 cups rice - cooked, 3 tomatoes, 3 teaspoons BC Belle Bhat powder, salt - as per taste, 1 teaspoon chickpea lentils, 1/2 teaspoon cumin seeds, 1 teaspoon white urad dal, 1/2 Teaspoon mustard, 1 green chilli, 1 dry red chilli, 2 teaspoon cashew - or peanuts, 1-1 / 2 tablespoon oil - 1/2 teaspoon asafoetida</td>\n",
              "    </tr>\n",
              "    <tr>\n",
              "      <th>2</th>\n",
              "      <td>1-1/2 cups Rice Vermicelli Noodles (Thin),1 Onion - sliced,1/2 cup Carrots (Gajjar) - chopped,1/3 cup Green peas (Matar),2 Green Chillies,1/4 teaspoon Asafoetida (hing),1 teaspoon Mustard seeds,1 teaspoon White Urad Dal (Split),1 teaspoon Ghee,1 sprig Curry leaves,Salt - to taste,1 teaspoon Lemon juice</td>\n",
              "    </tr>\n",
              "    <tr>\n",
              "      <th>3</th>\n",
              "      <td>500 grams Chicken,2 Onion - chopped,1 Tomato - chopped,4 Green Chillies - slit,1 inch Ginger - finely chopped,6 cloves Garlic - finely chopped,1/2 teaspoon Turmeric powder (Haldi),1 teaspoon Garam masala powder,2 tablespoon Sesame (Gingelly) Oil,Salt - to taste,1/4 teaspoon Methi Seeds (Fenugreek Seeds),1 tablespoon Coriander (Dhania) Seeds,4 Dry Red Chillies,1 teaspoon Fennel seeds (Saunf),1 teaspoon Sesame (Gingelly) Oil,4 cloves Garlic,2 cups Sorrel Leaves (Gongura) - picked and chopped,Salt - to taste</td>\n",
              "    </tr>\n",
              "    <tr>\n",
              "      <th>4</th>\n",
              "      <td>1 tablespoon chana dal, 1 tablespoon white urad dal, 2 red chillies, 1 tablespoon coriander seeds, 3 inches ginger - chop, 1 onion - chop, 1 tomato - chop, salt - as per taste, 1 Teaspoon mustard, asafoetida - a pinch, oil - as per use, 1 sprig curry</td>\n",
              "    </tr>\n",
              "    <tr>\n",
              "      <th>...</th>\n",
              "      <td>...</td>\n",
              "    </tr>\n",
              "    <tr>\n",
              "      <th>6168</th>\n",
              "      <td>2 cups Paneer (Homemade Cottage Cheese) - crumbled,4 tablespoons Sugar,1/2 teaspoon Cardamom Powder (Elaichi),Saffron strands - a generous pinch,2 tablespoons Water,1/2 teaspoon Ghee,2 teaspoons Rose water</td>\n",
              "    </tr>\n",
              "    <tr>\n",
              "      <th>6169</th>\n",
              "      <td>1-1/2 cup Risotto - cooked risotto (recipe below),1 cup Parmesan cheese - grated,1/2 cup Gorgonzola cheese - cut into 1/4 inch cubes,4 sprig Basil leaves - finely chopped,2 Whole Eggs,2 cups Whole Wheat Bread crumbs - Italian style seasoned,Homemade Pizza And Pasta Sauce - or Marinara Sauce for serving,1 cup Arborio rice,2 cups Vegetable stock - or chicken broth,1/4 cup Butter,1 Onion - finely chopped,1/2 cup Dry white wine,1/2 cup Parmesan cheese - grated,Salt - to taste,Black pepper powder - to taste</td>\n",
              "    </tr>\n",
              "    <tr>\n",
              "      <th>6170</th>\n",
              "      <td>1 cup Quinoa,3/4 cup Sugar,1 teaspoon Cardamom Powder (Elaichi),2 cup Milk - vegans can substitute this ingredient with almond milk,1/2 tablespoon Condensed Milk - or khoya (mawa) vegans can eliminate this ingredient,1/2 tablespoon Ghee,1/4 teaspoon Saffron strands,Mixed nuts - chopped</td>\n",
              "    </tr>\n",
              "    <tr>\n",
              "      <th>6171</th>\n",
              "      <td>150 grams Spring Onion (Bulb &amp; Greens) - chopped,3/4 cup Tamarind Water,1 tablespoon Gram flour (besan),2 teaspoons Sunflower Oil,1 teaspoon Mustard seeds,1 teaspoon Cumin seeds (Jeera),2 Dry Red Chillies,1 pinch Asafoetida (hing),1 pinch Turmeric powder (Haldi),Salt - to atste,2 teaspoons Coriander (Dhania) Seeds,1 teaspoon Cumin seeds (Jeera),1/2 teaspoon Mustard seeds,1/4 teaspoon Methi Seeds (Fenugreek Seeds),2 cups Water</td>\n",
              "    </tr>\n",
              "    <tr>\n",
              "      <th>6172</th>\n",
              "      <td>1 kg Chicken - medium pieces,1/2 cup Mustard oil,Ghee - as required,1-1/2 kg Curd (Dahi / Yogurt),2 inch Cinnamon Stick (Dalchini),2 to 3 Black cardamom (Badi Elaichi),3 to 4 Cloves (Laung),2 teaspoons Asafoetida (hing),2 Bay leaf (tej patta),1 teaspoon Cumin seeds (Jeera),1-1/2 teaspoons Fennel Powder,Salt - as required,1/2 cup Mint Leaves (Pudina) - dry</td>\n",
              "    </tr>\n",
              "  </tbody>\n",
              "</table>\n",
              "<p>6173 rows × 1 columns</p>\n",
              "</div><br><label><b>dtype:</b> object</label>"
            ]
          },
          "metadata": {},
          "execution_count": 24
        }
      ]
    },
    {
      "cell_type": "code",
      "source": [
        "df_english['ExtractedIngredients'].head()"
      ],
      "metadata": {
        "colab": {
          "base_uri": "https://localhost:8080/",
          "height": 345
        },
        "id": "EXko3DBdY0Vb",
        "outputId": "f8196de6-1b12-48c0-ff05-79966bc1e01f"
      },
      "execution_count": null,
      "outputs": [
        {
          "output_type": "execute_result",
          "data": {
            "text/plain": [
              "0                                                                                                                                                                      Karela, Gourd, Pavakkai, Salt, taste,, Onion, sliced,, tablespoon, Gram, flour, teaspoons, Turmeric, powder, tablespoon, Red, Chilli, powder,, teaspoons, Cumin, seeds, tablespoon, Coriander, Powder, Dhania,, tablespoon, Amchur, Dry, Mango, Powder,Sunflower, Oil\n",
              "1                                                                                                                                                                                             cups, rice, tomatoes, teaspoons, BC, Belle, powder, salt, taste, teaspoon, chickpea, lentils, teaspoon, cumin, seeds, teaspoon, urad, dal, Teaspoon, mustard, chilli, chilli, teaspoon, cashew, peanuts, tablespoon, oil, teaspoon, asafoetida\n",
              "2                                                                                                                                              , cups, Rice, Vermicelli, Noodles, Thin,, Onion, sliced,, cup, Carrots, Gajjar, chopped,, cup, Green, peas, Matar,, Green, Chillies,, teaspoon, Asafoetida, hing,, teaspoon, Mustard, seeds,, teaspoon, White, Urad, Dal, teaspoon, Ghee,, sprig, Curry, Salt, taste,, teaspoon, Lemon, juice\n",
              "3    grams, Chicken,, Onion, chopped,, Tomato, chopped,, Green, Chillies, slit,, inch, Ginger, Garlic, teaspoon, Turmeric, powder, teaspoon, Garam, masala, powder,, tablespoon, Sesame, Gingelly, Oil, Salt, taste,, teaspoon, Methi, Seeds, Fenugreek, Seeds,, tablespoon, Coriander, Dhania, Seeds,, Dry, Red, Chillies,, teaspoon, Fennel, seeds, Saunf,, teaspoon, Sesame, Gingelly, Oil,, Garlic,, cups, Sorrel, Leaves, Gongura, Salt\n",
              "4                                                                                                                                                                                                                          tablespoon, chana, dal, tablespoon, urad, dal, chillies, tablespoon, coriander, seeds, inches, ginger, chop, onion, chop, tomato, chop, salt, taste, Teaspoon, mustard, asafoetida, pinch, oil, use, sprig, curry\n",
              "Name: ExtractedIngredients, dtype: object"
            ],
            "text/html": [
              "<div>\n",
              "<style scoped>\n",
              "    .dataframe tbody tr th:only-of-type {\n",
              "        vertical-align: middle;\n",
              "    }\n",
              "\n",
              "    .dataframe tbody tr th {\n",
              "        vertical-align: top;\n",
              "    }\n",
              "\n",
              "    .dataframe thead th {\n",
              "        text-align: right;\n",
              "    }\n",
              "</style>\n",
              "<table border=\"1\" class=\"dataframe\">\n",
              "  <thead>\n",
              "    <tr style=\"text-align: right;\">\n",
              "      <th></th>\n",
              "      <th>ExtractedIngredients</th>\n",
              "    </tr>\n",
              "  </thead>\n",
              "  <tbody>\n",
              "    <tr>\n",
              "      <th>0</th>\n",
              "      <td>Karela, Gourd, Pavakkai, Salt, taste,, Onion, sliced,, tablespoon, Gram, flour, teaspoons, Turmeric, powder, tablespoon, Red, Chilli, powder,, teaspoons, Cumin, seeds, tablespoon, Coriander, Powder, Dhania,, tablespoon, Amchur, Dry, Mango, Powder,Sunflower, Oil</td>\n",
              "    </tr>\n",
              "    <tr>\n",
              "      <th>1</th>\n",
              "      <td>cups, rice, tomatoes, teaspoons, BC, Belle, powder, salt, taste, teaspoon, chickpea, lentils, teaspoon, cumin, seeds, teaspoon, urad, dal, Teaspoon, mustard, chilli, chilli, teaspoon, cashew, peanuts, tablespoon, oil, teaspoon, asafoetida</td>\n",
              "    </tr>\n",
              "    <tr>\n",
              "      <th>2</th>\n",
              "      <td>, cups, Rice, Vermicelli, Noodles, Thin,, Onion, sliced,, cup, Carrots, Gajjar, chopped,, cup, Green, peas, Matar,, Green, Chillies,, teaspoon, Asafoetida, hing,, teaspoon, Mustard, seeds,, teaspoon, White, Urad, Dal, teaspoon, Ghee,, sprig, Curry, Salt, taste,, teaspoon, Lemon, juice</td>\n",
              "    </tr>\n",
              "    <tr>\n",
              "      <th>3</th>\n",
              "      <td>grams, Chicken,, Onion, chopped,, Tomato, chopped,, Green, Chillies, slit,, inch, Ginger, Garlic, teaspoon, Turmeric, powder, teaspoon, Garam, masala, powder,, tablespoon, Sesame, Gingelly, Oil, Salt, taste,, teaspoon, Methi, Seeds, Fenugreek, Seeds,, tablespoon, Coriander, Dhania, Seeds,, Dry, Red, Chillies,, teaspoon, Fennel, seeds, Saunf,, teaspoon, Sesame, Gingelly, Oil,, Garlic,, cups, Sorrel, Leaves, Gongura, Salt</td>\n",
              "    </tr>\n",
              "    <tr>\n",
              "      <th>4</th>\n",
              "      <td>tablespoon, chana, dal, tablespoon, urad, dal, chillies, tablespoon, coriander, seeds, inches, ginger, chop, onion, chop, tomato, chop, salt, taste, Teaspoon, mustard, asafoetida, pinch, oil, use, sprig, curry</td>\n",
              "    </tr>\n",
              "  </tbody>\n",
              "</table>\n",
              "</div><br><label><b>dtype:</b> object</label>"
            ]
          },
          "metadata": {},
          "execution_count": 25
        }
      ]
    },
    {
      "cell_type": "code",
      "source": [
        "import nltk\n",
        "nltk.download('punkt')\n",
        "nltk.download('stopwords')"
      ],
      "metadata": {
        "colab": {
          "base_uri": "https://localhost:8080/"
        },
        "id": "50MdbgbHTM9n",
        "outputId": "09d29305-d3fc-4dce-fd87-35d3a99b77d9"
      },
      "execution_count": null,
      "outputs": [
        {
          "output_type": "stream",
          "name": "stderr",
          "text": [
            "[nltk_data] Downloading package punkt to /root/nltk_data...\n",
            "[nltk_data]   Unzipping tokenizers/punkt.zip.\n",
            "[nltk_data] Downloading package stopwords to /root/nltk_data...\n",
            "[nltk_data]   Unzipping corpora/stopwords.zip.\n"
          ]
        },
        {
          "output_type": "execute_result",
          "data": {
            "text/plain": [
              "True"
            ]
          },
          "metadata": {},
          "execution_count": 26
        }
      ]
    },
    {
      "cell_type": "code",
      "source": [
        "from nltk.corpus import stopwords\n",
        "\n",
        "stop_words = set(stopwords.words('english'))"
      ],
      "metadata": {
        "id": "AAWVb8BNWtoo"
      },
      "execution_count": null,
      "outputs": []
    },
    {
      "cell_type": "code",
      "source": [
        "# stop_words = {'a', 'about', 'above', 'after', 'again', 'against', 'ain', 'all', 'am', 'an', 'and', 'any', 'are', 'aren', \"aren't\", 'as', 'at', 'be', 'because', 'been', 'before', 'being', 'below', 'between', 'both', 'but', 'by', 'can', 'couldn', \"couldn't\", 'd', 'did', 'didn', \"didn't\", 'do', 'does', 'doesn', \"doesn't\", 'doing', 'don', \"don't\", 'down', 'during', 'each', 'few', 'for', 'from', 'further', 'had', 'hadn', \"hadn't\", 'has', 'hasn', \"hasn't\", 'have', 'haven', \"haven't\", 'having', 'he', \"he'd\", \"he'll\", \"he's\", 'her', 'here', 'hers', 'herself', 'him', 'himself', 'his', 'how', 'i', \"i'd\", \"i'll\", \"i'm\", \"i've\", 'if', 'in', 'into', 'is', 'isn', \"isn't\", 'it', \"it'd\", \"it'll\", \"it's\", 'its', 'itself', 'just', 'll', 'm', 'ma', 'me', 'mightn', \"mightn't\", 'more', 'most', 'mustn', \"mustn't\", 'my', 'myself', 'needn', \"needn't\", 'no', 'nor', 'not', 'now', 'o', 'of', 'off', 'on', 'once', 'only', 'or', 'other', 'our', 'ours', 'ourselves', 'out', 'over', 'own', 're', 's', 'same', 'shan', \"shan't\", 'she', \"she'd\", \"she'll\", \"she's\", 'should', \"should've\", 'shouldn', \"shouldn't\", 'so', 'some', 'such', 't', 'than', 'that', \"that'll\", 'the', 'their', 'theirs', 'them', 'themselves', 'then', 'there', 'these', 'they', \"they'd\", \"they'll\", \"they're\", \"they've\", 'this', 'those', 'through', 'to', 'too', 'under', 'until', 'up', 've', 'very', 'was', 'wasn', \"wasn't\", 'we', \"we'd\", \"we'll\", \"we're\", \"we've\", 'were', 'weren', \"weren't\", 'what', 'when', 'where', 'which', 'while', 'who', 'whom', 'why', 'will', 'with', 'won', \"won't\", 'wouldn', \"wouldn't\", 'y', 'you', \"you'd\", \"you'll\", \"you're\", \"you've\", 'your', 'yours', 'yourself', 'yourselves'}"
      ],
      "metadata": {
        "id": "4ARl18oSwe1z"
      },
      "execution_count": null,
      "outputs": []
    },
    {
      "cell_type": "code",
      "source": [
        "def preprocess_text(text):\n",
        "    text = text.lower()\n",
        "    text = ''.join([char for char in text if char not in string.punctuation])\n",
        "    tokens = text.split()\n",
        "    tokens = [word for word in tokens if word not in stop_words]\n",
        "    return ' '.join(tokens)\n"
      ],
      "metadata": {
        "id": "jeV8ydyjWyIw"
      },
      "execution_count": null,
      "outputs": []
    },
    {
      "cell_type": "code",
      "source": [
        "import string\n",
        "df_english.loc[:, 'CleanedIngredients'] = df_english['ExtractedIngredients'].apply(preprocess_text)"
      ],
      "metadata": {
        "id": "ud66MgZCW51t"
      },
      "execution_count": null,
      "outputs": []
    },
    {
      "cell_type": "code",
      "source": [
        "df_english = df_english[df_english['CleanedIngredients'].str.strip() != ''].copy()"
      ],
      "metadata": {
        "id": "Lnc9ikxPXE6o"
      },
      "execution_count": null,
      "outputs": []
    },
    {
      "cell_type": "code",
      "source": [
        "df_english.info()"
      ],
      "metadata": {
        "collapsed": true,
        "colab": {
          "base_uri": "https://localhost:8080/"
        },
        "id": "ZD7EGxB_ZH9o",
        "outputId": "f55e9f09-2217-479e-efcf-5a28c8e7425c"
      },
      "execution_count": null,
      "outputs": [
        {
          "output_type": "stream",
          "name": "stdout",
          "text": [
            "<class 'pandas.core.frame.DataFrame'>\n",
            "RangeIndex: 6173 entries, 0 to 6172\n",
            "Data columns (total 18 columns):\n",
            " #   Column                  Non-Null Count  Dtype \n",
            "---  ------                  --------------  ----- \n",
            " 0   Srno                    6173 non-null   int64 \n",
            " 1   RecipeName              6173 non-null   object\n",
            " 2   TranslatedRecipeName    6173 non-null   object\n",
            " 3   Ingredients             6173 non-null   object\n",
            " 4   TranslatedIngredients   6173 non-null   object\n",
            " 5   PrepTimeInMins          6173 non-null   int64 \n",
            " 6   CookTimeInMins          6173 non-null   int64 \n",
            " 7   TotalTimeInMins         6173 non-null   int64 \n",
            " 8   Servings                6173 non-null   int64 \n",
            " 9   Cuisine                 6173 non-null   object\n",
            " 10  Course                  6173 non-null   object\n",
            " 11  Diet                    6173 non-null   object\n",
            " 12  Instructions            6173 non-null   object\n",
            " 13  TranslatedInstructions  6173 non-null   object\n",
            " 14  URL                     6173 non-null   object\n",
            " 15  EstimatedCalories       6173 non-null   int64 \n",
            " 16  ExtractedIngredients    6173 non-null   object\n",
            " 17  CleanedIngredients      6173 non-null   object\n",
            "dtypes: int64(6), object(12)\n",
            "memory usage: 868.2+ KB\n"
          ]
        }
      ]
    },
    {
      "cell_type": "code",
      "source": [
        "from sklearn.feature_extraction.text import TfidfVectorizer\n",
        "from sklearn.metrics.pairwise import cosine_similarity"
      ],
      "metadata": {
        "id": "Og1NEoyGXPFA"
      },
      "execution_count": null,
      "outputs": []
    },
    {
      "cell_type": "code",
      "source": [
        "tfidf_vectorizer = TfidfVectorizer()\n",
        "tfidf_matrix = tfidf_vectorizer.fit_transform(df_english['CleanedIngredients'])"
      ],
      "metadata": {
        "id": "iVQ3f5GaXXot"
      },
      "execution_count": null,
      "outputs": []
    },
    {
      "cell_type": "code",
      "source": [
        "def calculate_similarity(user_ingredients, calories):\n",
        "    user_ingredients_text = preprocess_text(', '.join(user_ingredients))\n",
        "    user_tfidf = tfidf_vectorizer.transform([user_ingredients_text])\n",
        "    cosine_similarities = cosine_similarity(user_tfidf, tfidf_matrix)[0]\n",
        "    calories_similarity = 1 - abs(df_english['EstimatedCalories'] - calories) / df_english['EstimatedCalories'].max()\n",
        "    combined_similarity = (cosine_similarities * 0.8) + (calories_similarity * 0.2)\n",
        "    return combined_similarity"
      ],
      "metadata": {
        "id": "gY24xhb8XczS"
      },
      "execution_count": null,
      "outputs": []
    },
    {
      "cell_type": "code",
      "source": [
        "def recommend_recipes(user_ingredients, diet='', calories=150, top_n=5):\n",
        "    combined_similarity = calculate_similarity(user_ingredients, calories)\n",
        "    sorted_indices = combined_similarity.argsort()[::-1]\n",
        "\n",
        "    if diet:\n",
        "        filtered_indices = [idx for idx in sorted_indices if df_english.loc[idx, 'Diet'].strip().lower() == diet.lower()]\n",
        "        top_recommendations = df_english.loc[filtered_indices[:top_n], ['TranslatedRecipeName','TranslatedInstructions', 'Diet', 'EstimatedCalories']].copy()\n",
        "    else:\n",
        "        top_recommendations = df_english.iloc[sorted_indices[:top_n], df_english.columns.get_indexer(['TranslatedRecipeName','TranslatedInstructions', 'Diet', 'EstimatedCalories'])].copy()\n",
        "\n",
        "    return top_recommendations\n"
      ],
      "metadata": {
        "id": "jlBfaCmcXeyN"
      },
      "execution_count": null,
      "outputs": []
    },
    {
      "cell_type": "code",
      "source": [
        "user_ingredients = [\"tomato\",\"pepper\",\"onion\"]\n",
        "diet = \"Vegan\"\n",
        "recommendations = recommend_recipes(user_ingredients, diet, 250, 15)\n",
        "\n",
        "# for index in recommendations.index:\n",
        "#     recipe_info = df_english.loc[index]\n",
        "#     print(\"Recipe Information for Index\", index)\n",
        "#     print(recipe_info)\n",
        "#     print(\"---------------------------------------------------------------------------------------------\")"
      ],
      "metadata": {
        "id": "1-x-4LGpXiR3"
      },
      "execution_count": null,
      "outputs": []
    },
    {
      "cell_type": "code",
      "source": [],
      "metadata": {
        "id": "I8jWa_J0N9oq"
      },
      "execution_count": null,
      "outputs": []
    },
    {
      "cell_type": "code",
      "source": [],
      "metadata": {
        "id": "jKwtLh_uN9k7"
      },
      "execution_count": null,
      "outputs": []
    },
    {
      "cell_type": "code",
      "source": [
        "from IPython.display import HTML\n",
        "\n",
        "html_table = \"<table><tr><th>Srno</th><th>Name</th><th>Diet</th><th>Recipe</th><th>Estimated Calories</th></tr>\"\n",
        "\n",
        "for index in recommendations.index:\n",
        "    recipe_info = df_english.loc[index]\n",
        "    html_table += f\"<tr><td>{recipe_info.get('Srno', '')}</td><td>{recipe_info.get('TranslatedRecipeName', '')}</td><td>{recipe_info.get('Diet', '')}</td><td>{recipe_info.get('TranslatedInstructions', '')}</td><td>{recipe_info.get('EstimatedCalories', '')}</td></tr>\"\n",
        "\n",
        "html_table += \"</table>\"\n",
        "\n",
        "HTML(html_table)"
      ],
      "metadata": {
        "id": "TBHtZ8dxj5CM"
      },
      "execution_count": null,
      "outputs": []
    },
    {
      "cell_type": "markdown",
      "source": [
        "#### RUN GRADIO WITH CAUTION! Ensure to demo.close() after use and delete runtime as well."
      ],
      "metadata": {
        "id": "UX4NuMheeK13"
      }
    },
    {
      "cell_type": "code",
      "source": [
        "# RUN GRADIO WITH CAUTION! Ensure to demo.close() after use and delete runtime as well.\n",
        "\n",
        "# !pip install gradio --quiet --upgrade"
      ],
      "metadata": {
        "id": "y1Clyts_dgX1"
      },
      "execution_count": null,
      "outputs": []
    },
    {
      "cell_type": "code",
      "source": [
        "# import gradio as gr\n",
        "# import pandas as pd\n",
        "\n",
        "# from gradio.themes.base import Base\n",
        "\n",
        "# blue_theme = Base(\n",
        "#     primary_hue=\"blue\",\n",
        "#     secondary_hue=\"blue\"\n",
        "# )\n",
        "\n",
        "# diet_options = [\n",
        "#     '', 'Diabetic Friendly', 'Vegetarian', 'High Protein Vegetarian',\n",
        "#     'Non Vegeterian', 'High Protein Non Vegetarian', 'Eggetarian',\n",
        "#     'Vegan', 'No Onion No Garlic (Sattvic)', 'Gluten Free', 'Sugar Free Diet'\n",
        "# ]\n",
        "\n",
        "# def get_recipes(ingredients, calories, diet, top_n):\n",
        "#     ingredients_list = [i.strip() for i in ingredients.split(\",\") if i.strip()]\n",
        "#     try:\n",
        "#         df = recommend_recipes(ingredients_list, diet=diet, calories=calories, top_n=top_n)\n",
        "\n",
        "#         if df.empty:\n",
        "#             return \"⚠️ No recipes found matching the criteria.\"\n",
        "\n",
        "#         column_rename_map = {\n",
        "#             'TranslatedRecipeName': 'Name',\n",
        "#             'TranslatedInstructions': 'Recipe',\n",
        "#             'EstimatedCalories': 'Estimated Calories',\n",
        "#             'Diet': 'Diet'\n",
        "#         }\n",
        "\n",
        "#         df = df.rename(columns=column_rename_map)\n",
        "#         df = df.reset_index(drop=True)\n",
        "\n",
        "#         output_str = \"\"\n",
        "#         for i, row in df.iterrows():\n",
        "#             output_str += f\"### 🍽️ NutriGuide: Recipe #{i+1}\\n\\n\"\n",
        "#             output_str += f\"**Recipe Name**: {row.get('Name', 'N/A')}\\n\\n\"\n",
        "#             output_str += f\"**Recipe**: {row.get('Recipe', 'N/A')}\\n\\n\"\n",
        "#             output_str += f\"**Diet**: {row.get('Diet', 'N/A')}\\n\\n\"\n",
        "#             output_str += f\"**Estimated Calories**: {row.get('Estimated Calories', 'N/A')}\\n\\n\"\n",
        "#             output_str += \"---\\n\"\n",
        "\n",
        "#         return output_str\n",
        "\n",
        "#     except Exception as e:\n",
        "#         return f\"❌ Error: {e}\"\n",
        "\n",
        "# with gr.Blocks(theme=blue_theme) as demo:\n",
        "#   gr.HTML(\"\"\"\n",
        "#            <style>\n",
        "#                .blue-button {\n",
        "#                    background-color: #3B82F6 !important;\n",
        "#                    color: white !important;\n",
        "#                    border: none;\n",
        "#                    padding: 12px 24px;\n",
        "#                    font-size: 16px;\n",
        "#                    border-radius: 6px;\n",
        "#                    cursor: pointer;\n",
        "#                }\n",
        "#                .blue-button:hover {\n",
        "#                    background-color: #2563EB !important;\n",
        "#                }\n",
        "#            </style>\n",
        "#      \"\"\")\n",
        "\n",
        "#   gr.HTML(\"<h1 style='text-align:center; margin-bottom: 0;'>🍽️ NutriGuide: Recipe Recommendation System 🍽️</h1>\")\n",
        "#   gr.HTML(\"<p style='text-align:center; margin-top: 0; margin-bottom: 40px;'>Provide ingredients, calorie limit, and an optional diet type to get Indian recipe suggestions.</p>\")\n",
        "\n",
        "#   with gr.Row():\n",
        "#       ingredients = gr.Textbox(label=\"Enter ingredients (comma-separated)\", placeholder=\"e.g., tomato, onion, garlic\")\n",
        "#   with gr.Row():\n",
        "#       calories = gr.Number(label=\"Average Calories\", value=250)\n",
        "#       diet = gr.Dropdown(label=\"Select Diet (optional)\", choices=diet_options)\n",
        "#       top_n = gr.Slider(label=\"Number of Recipes to Recommend\", minimum=1, maximum=20, value=5, step=1)\n",
        "#   output = gr.Markdown(label=\"Recommended Recipes\")\n",
        "#   submit = gr.Button(\"Get Recommendations\", elem_classes=[\"blue-button\"])\n",
        "#   submit.click(fn=get_recipes, inputs=[ingredients, calories, diet, top_n], outputs=output)\n",
        "\n",
        "# demo.launch(auth=(\"admin\", \"passwordforcollege9876\"))\n"
      ],
      "metadata": {
        "id": "Vc0RlKw-dlB6"
      },
      "execution_count": null,
      "outputs": []
    },
    {
      "cell_type": "code",
      "source": [
        "# demo.close()"
      ],
      "metadata": {
        "id": "iKdr36dFds94"
      },
      "execution_count": null,
      "outputs": []
    }
  ]
}